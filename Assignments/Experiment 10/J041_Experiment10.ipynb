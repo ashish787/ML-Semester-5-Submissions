{
 "cells": [
  {
   "cell_type": "markdown",
   "metadata": {},
   "source": [
    "# Experiment 10: KNN from scratch\n",
    "\n",
    "## Name: Ashish Nanda\n",
    "## Roll No.: J041"
   ]
  },
  {
   "cell_type": "code",
   "execution_count": 1,
   "metadata": {},
   "outputs": [],
   "source": [
    "import numpy as np\n",
    "from scipy.stats import mode\n",
    "from sklearn.datasets import load_iris\n",
    "from sklearn.model_selection import train_test_split\n",
    "from sklearn.metrics import accuracy_score"
   ]
  },
  {
   "cell_type": "code",
   "execution_count": 2,
   "metadata": {},
   "outputs": [],
   "source": [
    "class KNN:\n",
    "\n",
    "    def __init__(self, n_neighbors=5):\n",
    "        self.n_neighbors = n_neighbors\n",
    "\n",
    "    def euclidean(self, d1, d2):\n",
    "        distance = np.sqrt(np.sum((d1 - d2) ** 2))\n",
    "\n",
    "        return distance\n",
    "\n",
    "    def fit(self, X_train, y_train):\n",
    "        self.X_train = X_train\n",
    "        self.y_train = y_train\n",
    "\n",
    "    def predict(self, X_test):\n",
    "        y_pred = np.zeros(len(X_test))\n",
    "        \n",
    "        for indx, X in enumerate(X_test):\n",
    "            distance_and_neighbors = []\n",
    "            \n",
    "            for X_tr, y_tr in zip(self.X_train, self.y_train):\n",
    "                dist = self.euclidean(X, X_tr)\n",
    "                distance_and_neighbors.append((dist, y_tr))\n",
    "\n",
    "            distance_and_neighbors = sorted(distance_and_neighbors, key=lambda k: k[0])\n",
    "            neighbors = [n[1] for n in distance_and_neighbors[:self.n_neighbors]]\n",
    "            y_pred[indx] = mode(neighbors)[0][0]\n",
    "            \n",
    "        return y_pred"
   ]
  },
  {
   "cell_type": "markdown",
   "metadata": {},
   "source": [
    "## Testing the model on Iris dataset"
   ]
  },
  {
   "cell_type": "code",
   "execution_count": 3,
   "metadata": {},
   "outputs": [],
   "source": [
    "iris_df = load_iris()"
   ]
  },
  {
   "cell_type": "code",
   "execution_count": 4,
   "metadata": {},
   "outputs": [],
   "source": [
    "X = iris_df.data\n",
    "y = iris_df.target"
   ]
  },
  {
   "cell_type": "code",
   "execution_count": 5,
   "metadata": {},
   "outputs": [],
   "source": [
    "X_train, X_test, y_train, y_test = train_test_split(X, y, test_size=0.2, random_state=22, stratify=y, shuffle=True)"
   ]
  },
  {
   "cell_type": "code",
   "execution_count": 6,
   "metadata": {},
   "outputs": [],
   "source": [
    "model = KNN(n_neighbors=7)\n",
    "\n",
    "model.fit(X_train, y_train)\n",
    "\n",
    "y_pred = model.predict(X_test)"
   ]
  },
  {
   "cell_type": "code",
   "execution_count": 7,
   "metadata": {},
   "outputs": [
    {
     "data": {
      "text/plain": [
       "0.9666666666666667"
      ]
     },
     "execution_count": 7,
     "metadata": {},
     "output_type": "execute_result"
    }
   ],
   "source": [
    "score = accuracy_score(y_test, y_pred)\n",
    "score"
   ]
  }
 ],
 "metadata": {
  "interpreter": {
   "hash": "676fa3c59ed912688d24061e7c8ec93a9b4bd875812d1638a8abc3b53d470a78"
  },
  "kernelspec": {
   "display_name": "Python 3.8.8 64-bit ('my_env': conda)",
   "name": "python3"
  },
  "language_info": {
   "codemirror_mode": {
    "name": "ipython",
    "version": 3
   },
   "file_extension": ".py",
   "mimetype": "text/x-python",
   "name": "python",
   "nbconvert_exporter": "python",
   "pygments_lexer": "ipython3",
   "version": "3.8.8"
  },
  "orig_nbformat": 4
 },
 "nbformat": 4,
 "nbformat_minor": 2
}
