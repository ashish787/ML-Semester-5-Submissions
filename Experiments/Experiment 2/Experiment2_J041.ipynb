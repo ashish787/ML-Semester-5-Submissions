{
  "nbformat": 4,
  "nbformat_minor": 0,
  "metadata": {
    "orig_nbformat": 4,
    "language_info": {
      "name": "python",
      "version": "3.8.8",
      "mimetype": "text/x-python",
      "codemirror_mode": {
        "name": "ipython",
        "version": 3
      },
      "pygments_lexer": "ipython3",
      "nbconvert_exporter": "python",
      "file_extension": ".py"
    },
    "kernelspec": {
      "name": "python3",
      "display_name": "Python 3.8.8 64-bit ('my_env': conda)"
    },
    "interpreter": {
      "hash": "6bdcbf3522e5e2369515f3809ca22aeeb55bb1e96520a69c17cbfc31a23d1987"
    },
    "colab": {
      "name": "Numpy_Basics_J041.ipynb",
      "provenance": [],
      "collapsed_sections": []
    },
    "accelerator": "GPU"
  },
  "cells": [
    {
      "cell_type": "markdown",
      "metadata": {
        "id": "1aqvQuqj1Mjs"
      },
      "source": [
        "# **Assignment 2**\n",
        "\n",
        "### Name: Ashish Nanda\n",
        "### Roll No.: J041"
      ]
    },
    {
      "cell_type": "code",
      "metadata": {
        "id": "sMOgcz7_1Mjx"
      },
      "source": [
        "# Importing libraries\n",
        "import numpy as np\n",
        "import time"
      ],
      "execution_count": 1,
      "outputs": []
    },
    {
      "cell_type": "markdown",
      "metadata": {
        "id": "SdbH-b061Mjv"
      },
      "source": [
        "## **Task 1: Prove the properties of matrix multiplication**"
      ]
    },
    {
      "cell_type": "markdown",
      "metadata": {
        "id": "Q3gUgLv01Mjw"
      },
      "source": [
        "### Matrix Creation"
      ]
    },
    {
      "cell_type": "code",
      "metadata": {
        "colab": {
          "base_uri": "https://localhost:8080/"
        },
        "id": "r25Bf91S1Mjy",
        "outputId": "c58135e4-39cb-4831-e007-6fb726856f75"
      },
      "source": [
        "A = np.array([[1, 2, 3], [4, 5, 6], [7, 8, 9]])\n",
        "A"
      ],
      "execution_count": 2,
      "outputs": [
        {
          "output_type": "execute_result",
          "data": {
            "text/plain": [
              "array([[1, 2, 3],\n",
              "       [4, 5, 6],\n",
              "       [7, 8, 9]])"
            ]
          },
          "metadata": {
            "tags": []
          },
          "execution_count": 2
        }
      ]
    },
    {
      "cell_type": "code",
      "metadata": {
        "colab": {
          "base_uri": "https://localhost:8080/"
        },
        "id": "uh1QzkH91Mjz",
        "outputId": "c34ffe9e-9bc7-48a7-d68e-0242026abd11"
      },
      "source": [
        "B = np.array([[10, 11, 12], [13, 14, 15], [16, 17, 18]])\n",
        "B"
      ],
      "execution_count": 3,
      "outputs": [
        {
          "output_type": "execute_result",
          "data": {
            "text/plain": [
              "array([[10, 11, 12],\n",
              "       [13, 14, 15],\n",
              "       [16, 17, 18]])"
            ]
          },
          "metadata": {
            "tags": []
          },
          "execution_count": 3
        }
      ]
    },
    {
      "cell_type": "code",
      "metadata": {
        "colab": {
          "base_uri": "https://localhost:8080/"
        },
        "id": "11qd1S7d1Mjz",
        "outputId": "e8b30ecf-bede-42d7-c8c9-424ae0d41581"
      },
      "source": [
        "C = np.array([[19, 20, 21], [22, 23, 24], [25, 26, 27]])\n",
        "C"
      ],
      "execution_count": 4,
      "outputs": [
        {
          "output_type": "execute_result",
          "data": {
            "text/plain": [
              "array([[19, 20, 21],\n",
              "       [22, 23, 24],\n",
              "       [25, 26, 27]])"
            ]
          },
          "metadata": {
            "tags": []
          },
          "execution_count": 4
        }
      ]
    },
    {
      "cell_type": "markdown",
      "metadata": {
        "id": "O6OThpTD1Mj0"
      },
      "source": [
        "### Property 1: Non-Commutative "
      ]
    },
    {
      "cell_type": "markdown",
      "metadata": {
        "id": "ZM1Ee2J31Mj1"
      },
      "source": [
        "### A.B ≠ B.A"
      ]
    },
    {
      "cell_type": "code",
      "metadata": {
        "colab": {
          "base_uri": "https://localhost:8080/"
        },
        "id": "6ujn2mbI1Mj1",
        "outputId": "09a4c488-9d64-4e97-bf91-19d5ef13fdac"
      },
      "source": [
        "# A.B\n",
        "AB = np.dot(A, B)\n",
        "AB"
      ],
      "execution_count": 5,
      "outputs": [
        {
          "output_type": "execute_result",
          "data": {
            "text/plain": [
              "array([[ 84,  90,  96],\n",
              "       [201, 216, 231],\n",
              "       [318, 342, 366]])"
            ]
          },
          "metadata": {
            "tags": []
          },
          "execution_count": 5
        }
      ]
    },
    {
      "cell_type": "code",
      "metadata": {
        "colab": {
          "base_uri": "https://localhost:8080/"
        },
        "id": "jM5wDDV51Mj1",
        "outputId": "43e56434-74a1-4649-d3dd-73abfe385032"
      },
      "source": [
        "# B.A\n",
        "BA = np.dot(B, A)\n",
        "BA"
      ],
      "execution_count": 6,
      "outputs": [
        {
          "output_type": "execute_result",
          "data": {
            "text/plain": [
              "array([[138, 171, 204],\n",
              "       [174, 216, 258],\n",
              "       [210, 261, 312]])"
            ]
          },
          "metadata": {
            "tags": []
          },
          "execution_count": 6
        }
      ]
    },
    {
      "cell_type": "markdown",
      "metadata": {
        "id": "1hJkvKzn1Mj2"
      },
      "source": [
        "### Commutative only if either A or B is an identity matrix "
      ]
    },
    {
      "cell_type": "markdown",
      "metadata": {
        "id": "BMte-Fa71Mj4"
      },
      "source": [
        "### A.I = I.A"
      ]
    },
    {
      "cell_type": "code",
      "metadata": {
        "colab": {
          "base_uri": "https://localhost:8080/"
        },
        "id": "4bw7GiyJ1Mj3",
        "outputId": "e012f70b-3f70-45d2-c3af-e45dc50832f5"
      },
      "source": [
        "# Matrix B = I\n",
        "I = np.identity(3, dtype=int)\n",
        "I"
      ],
      "execution_count": 7,
      "outputs": [
        {
          "output_type": "execute_result",
          "data": {
            "text/plain": [
              "array([[1, 0, 0],\n",
              "       [0, 1, 0],\n",
              "       [0, 0, 1]])"
            ]
          },
          "metadata": {
            "tags": []
          },
          "execution_count": 7
        }
      ]
    },
    {
      "cell_type": "code",
      "metadata": {
        "colab": {
          "base_uri": "https://localhost:8080/"
        },
        "id": "9cDdALYS1Mj3",
        "outputId": "db0ff6d9-be94-4b47-db40-7c6c863e7f1b"
      },
      "source": [
        "# A.I\n",
        "m1 = np.dot(A, I)\n",
        "m1"
      ],
      "execution_count": 8,
      "outputs": [
        {
          "output_type": "execute_result",
          "data": {
            "text/plain": [
              "array([[1, 2, 3],\n",
              "       [4, 5, 6],\n",
              "       [7, 8, 9]])"
            ]
          },
          "metadata": {
            "tags": []
          },
          "execution_count": 8
        }
      ]
    },
    {
      "cell_type": "code",
      "metadata": {
        "colab": {
          "base_uri": "https://localhost:8080/"
        },
        "id": "o-FNYFk01Mj4",
        "outputId": "65d74338-b5a8-4bba-96af-3b401a88cd82"
      },
      "source": [
        "# I.A\n",
        "m2 = np.dot(I, A)\n",
        "m2"
      ],
      "execution_count": 9,
      "outputs": [
        {
          "output_type": "execute_result",
          "data": {
            "text/plain": [
              "array([[1, 2, 3],\n",
              "       [4, 5, 6],\n",
              "       [7, 8, 9]])"
            ]
          },
          "metadata": {
            "tags": []
          },
          "execution_count": 9
        }
      ]
    },
    {
      "cell_type": "markdown",
      "metadata": {
        "id": "7OYwj9vT1Mj5"
      },
      "source": [
        "### Property 2: Associative property"
      ]
    },
    {
      "cell_type": "markdown",
      "metadata": {
        "id": "otOS_4Mr1Mj6"
      },
      "source": [
        "### A.(B.C) = (A.B).C"
      ]
    },
    {
      "cell_type": "code",
      "metadata": {
        "colab": {
          "base_uri": "https://localhost:8080/"
        },
        "id": "fbAHd9x71Mj6",
        "outputId": "80b6f4f9-4e5f-4a4c-cfa5-7377b6acdc43"
      },
      "source": [
        "# A.(B.C)\n",
        "A_BC = np.dot(A, np.dot(B, C))\n",
        "A_BC"
      ],
      "execution_count": 10,
      "outputs": [
        {
          "output_type": "execute_result",
          "data": {
            "text/plain": [
              "array([[ 5976,  6246,  6516],\n",
              "       [14346, 14994, 15642],\n",
              "       [22716, 23742, 24768]])"
            ]
          },
          "metadata": {
            "tags": []
          },
          "execution_count": 10
        }
      ]
    },
    {
      "cell_type": "code",
      "metadata": {
        "colab": {
          "base_uri": "https://localhost:8080/"
        },
        "id": "QvbWas_h1Mj6",
        "outputId": "ea429a92-6104-4732-9d54-02f7b889800f"
      },
      "source": [
        "# (A.B).C\n",
        "AB_C = np.dot(np.dot(A, B), C)\n",
        "AB_C"
      ],
      "execution_count": 11,
      "outputs": [
        {
          "output_type": "execute_result",
          "data": {
            "text/plain": [
              "array([[ 5976,  6246,  6516],\n",
              "       [14346, 14994, 15642],\n",
              "       [22716, 23742, 24768]])"
            ]
          },
          "metadata": {
            "tags": []
          },
          "execution_count": 11
        }
      ]
    },
    {
      "cell_type": "markdown",
      "metadata": {
        "id": "TRGGwVwV1Mj7"
      },
      "source": [
        "### Property 3: Distributive property"
      ]
    },
    {
      "cell_type": "markdown",
      "metadata": {
        "id": "_Hd917xI1Mj8"
      },
      "source": [
        "\n",
        "### A.(B + C)= A.B + A.C"
      ]
    },
    {
      "cell_type": "code",
      "metadata": {
        "colab": {
          "base_uri": "https://localhost:8080/"
        },
        "id": "ek5BwHuo1Mj7",
        "outputId": "d2cb3518-218c-4a83-90d8-c074dcf14849"
      },
      "source": [
        "# A.(B + C)\n",
        "m3 = np.dot(A, (B + C))\n",
        "m3"
      ],
      "execution_count": 12,
      "outputs": [
        {
          "output_type": "execute_result",
          "data": {
            "text/plain": [
              "array([[222, 234, 246],\n",
              "       [537, 567, 597],\n",
              "       [852, 900, 948]])"
            ]
          },
          "metadata": {
            "tags": []
          },
          "execution_count": 12
        }
      ]
    },
    {
      "cell_type": "code",
      "metadata": {
        "colab": {
          "base_uri": "https://localhost:8080/"
        },
        "id": "3UoW4XBX1Mj7",
        "outputId": "fd63d576-ad03-4190-da3b-f228d098a8ad"
      },
      "source": [
        "# A.B + A.C\n",
        "m4 = np.dot(A, B) + np.dot(A, C)\n",
        "m4"
      ],
      "execution_count": 13,
      "outputs": [
        {
          "output_type": "execute_result",
          "data": {
            "text/plain": [
              "array([[222, 234, 246],\n",
              "       [537, 567, 597],\n",
              "       [852, 900, 948]])"
            ]
          },
          "metadata": {
            "tags": []
          },
          "execution_count": 13
        }
      ]
    },
    {
      "cell_type": "markdown",
      "metadata": {
        "id": "CdGbZQoJ1Mj8"
      },
      "source": [
        "## **Task 2: Calculate inverse of a matrix using Numpy**"
      ]
    },
    {
      "cell_type": "markdown",
      "metadata": {
        "id": "eLxpYbH_1Mj9"
      },
      "source": [
        "### Random matrix creation"
      ]
    },
    {
      "cell_type": "code",
      "metadata": {
        "colab": {
          "base_uri": "https://localhost:8080/"
        },
        "id": "SlJgquEE1Mj9",
        "outputId": "649e855b-2310-47d1-b12d-b18d2e6239ec"
      },
      "source": [
        "matrix = np.random.randint(100, size=(3, 3))\n",
        "matrix"
      ],
      "execution_count": 14,
      "outputs": [
        {
          "output_type": "execute_result",
          "data": {
            "text/plain": [
              "array([[ 6, 93, 79],\n",
              "       [15, 30, 48],\n",
              "       [56, 61, 83]])"
            ]
          },
          "metadata": {
            "tags": []
          },
          "execution_count": 14
        }
      ]
    },
    {
      "cell_type": "code",
      "metadata": {
        "colab": {
          "base_uri": "https://localhost:8080/"
        },
        "id": "T7t7px_M1Mj9",
        "outputId": "ed21831f-f757-447c-8c73-e5da3fc43da7"
      },
      "source": [
        "inv_matrix = np.linalg.inv(matrix)\n",
        "inv_matrix"
      ],
      "execution_count": 15,
      "outputs": [
        {
          "output_type": "execute_result",
          "data": {
            "text/plain": [
              "array([[-0.00615722, -0.04076698,  0.02943657],\n",
              "       [ 0.02028509, -0.05519006,  0.01260965],\n",
              "       [-0.01075405,  0.0680668 , -0.01707996]])"
            ]
          },
          "metadata": {
            "tags": []
          },
          "execution_count": 15
        }
      ]
    },
    {
      "cell_type": "markdown",
      "metadata": {
        "id": "dHFIP5_Q1Mj9"
      },
      "source": [
        "## **Task 3: Comparison of Numpy and traditional looping**"
      ]
    },
    {
      "cell_type": "markdown",
      "metadata": {
        "id": "K6uvVsu71Mj-"
      },
      "source": [
        "### Random and empty matrix creation"
      ]
    },
    {
      "cell_type": "code",
      "metadata": {
        "id": "4vh1whnn1Mj-"
      },
      "source": [
        "matrix1 = np.random.randint(100, size=(10000, 10000))\n",
        "\n",
        "matrix2 = np.empty((10000, 10000))"
      ],
      "execution_count": 16,
      "outputs": []
    },
    {
      "cell_type": "code",
      "metadata": {
        "colab": {
          "base_uri": "https://localhost:8080/"
        },
        "id": "PXZhWFkJ7i4J",
        "outputId": "a2697450-54a0-4087-80da-e2fb3dfb73a8"
      },
      "source": [
        "matrix1.shape, matrix2.shape"
      ],
      "execution_count": 17,
      "outputs": [
        {
          "output_type": "execute_result",
          "data": {
            "text/plain": [
              "((10000, 10000), (10000, 10000))"
            ]
          },
          "metadata": {
            "tags": []
          },
          "execution_count": 17
        }
      ]
    },
    {
      "cell_type": "markdown",
      "metadata": {
        "id": "UlfXvU_z1Mj_"
      },
      "source": [
        "### Traditional looping"
      ]
    },
    {
      "cell_type": "code",
      "metadata": {
        "colab": {
          "base_uri": "https://localhost:8080/"
        },
        "id": "87us4vpy1Mj_",
        "outputId": "4765c365-8745-4b12-ca55-c5cf1a66a1db"
      },
      "source": [
        "initial = time.time()\n",
        "\n",
        "for i in range(len(matrix1)):\n",
        "    for j in range(len(matrix1)):\n",
        "        matrix2[i][j] = matrix1[i][j] + 5\n",
        "\n",
        "final = time.time()\n",
        "\n",
        "print(f'Time taken using looping: {final - initial}')"
      ],
      "execution_count": 18,
      "outputs": [
        {
          "output_type": "stream",
          "text": [
            "Time taken using looping: 98.81207132339478\n"
          ],
          "name": "stdout"
        }
      ]
    },
    {
      "cell_type": "markdown",
      "metadata": {
        "id": "qvkH1XDP1MkA"
      },
      "source": [
        "### Using Numpy"
      ]
    },
    {
      "cell_type": "code",
      "metadata": {
        "colab": {
          "base_uri": "https://localhost:8080/"
        },
        "id": "usGZJ7Nn1MkA",
        "outputId": "8c4d11ea-ed5f-4bc2-8c40-d7ca49f83e59"
      },
      "source": [
        "initial = time.time()\n",
        "\n",
        "matrix2 = np.add(matrix1, 5)\n",
        "\n",
        "final = time.time()\n",
        "\n",
        "print(f'Time taken using Numpy: {final - initial}')"
      ],
      "execution_count": 19,
      "outputs": [
        {
          "output_type": "stream",
          "text": [
            "Time taken using Numpy: 0.24549293518066406\n"
          ],
          "name": "stdout"
        }
      ]
    }
  ]
}