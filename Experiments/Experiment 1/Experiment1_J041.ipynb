{
 "cells": [
  {
   "cell_type": "markdown",
   "source": [
    "# **Assignment 1: 30 Days Of Code Challenge**\n",
    "## Name: Ashish Nanda\n",
    "## Roll No.: J041"
   ],
   "metadata": {}
  },
  {
   "cell_type": "markdown",
   "source": [
    "## Day 0: Hello, World\n",
    "\n",
    "Task: To complete this challenge, you must save a line of input from stdin to a variable, print Hello, World. on a single line, and finally print the value of your variable on a second line."
   ],
   "metadata": {}
  },
  {
   "cell_type": "code",
   "execution_count": 2,
   "source": [
    "input_string = input()\n",
    "\n",
    "print('Hello, World.')\n",
    "\n",
    "print(input_string)"
   ],
   "outputs": [
    {
     "output_type": "stream",
     "name": "stdout",
     "text": [
      "Hello, World.\n",
      "Welcome to 30 Days of Code!\n"
     ]
    }
   ],
   "metadata": {}
  },
  {
   "cell_type": "markdown",
   "source": [
    "## Day 1: Data Types\n",
    "\n",
    "Task: Complete the code in the editor below. The variables i, d, and s are already declared and initialized for you. You must: \n",
    "* Declare 3 variables: one of type int, one of type double, and one of type String. \n",
    "* Read 3 lines of input from stdin (according to the sequence given in the Input Format section below) and initialize your variables. \n",
    "* Use the + operator to perform the following operations: Print the sum of  plus your int variable on a new line. Print the sum of  plus your double variable to a scale of one decimal place on a new line. Concatenate  with the string you read as input and print the result on a new line."
   ],
   "metadata": {}
  },
  {
   "cell_type": "code",
   "execution_count": 4,
   "source": [
    "i = 4\n",
    "d = 4.0\n",
    "s = 'HackerRank '\n",
    "\n",
    "i_2 = int(input())\n",
    "d_2 = float(input())\n",
    "s_2 = str(input())\n",
    "\n",
    "print(i + i_2)\n",
    "\n",
    "print(d + d_2)\n",
    "\n",
    "print(s + s_2)"
   ],
   "outputs": [
    {
     "output_type": "stream",
     "name": "stdout",
     "text": [
      "16\n",
      "8.0\n",
      "HackerRank is the best place to learn and practice coding!\n"
     ]
    }
   ],
   "metadata": {}
  },
  {
   "cell_type": "markdown",
   "source": [
    "## Day 2: Operators\n",
    "\n",
    "Task: Given the meal price (base cost of a meal), tip percent (the percentage of the meal price being added as tip), and tax percent (the percentage of the meal price being added as tax) for a meal, find and print the meal's total cost. Round the result to the nearest integer."
   ],
   "metadata": {}
  },
  {
   "cell_type": "code",
   "execution_count": 10,
   "source": [
    "#!/bin/python3\n",
    "\n",
    "import math\n",
    "import os\n",
    "import random\n",
    "import re\n",
    "import sys\n",
    "\n",
    "#\n",
    "# Complete the 'solve' function below.\n",
    "#\n",
    "# The function accepts following parameters:\n",
    "#  1. DOUBLE meal_cost\n",
    "#  2. INTEGER tip_percent\n",
    "#  3. INTEGER tax_percent\n",
    "#\n",
    "\n",
    "def solve(meal_cost, tip_percent, tax_percent):\n",
    "    tip = (tip_percent / 100.0) * meal_cost\n",
    "    \n",
    "    tax = (tax_percent / 100.0) * meal_cost\n",
    "    \n",
    "    total_cost = meal_cost + tip + tax\n",
    "    \n",
    "    total_rounded = round(total_cost)\n",
    "    \n",
    "    print(total_rounded)\n",
    "\n",
    "if __name__ == '__main__':\n",
    "    meal_cost = float(input().strip())\n",
    "\n",
    "    tip_percent = int(input().strip())\n",
    "\n",
    "    tax_percent = int(input().strip())\n",
    "\n",
    "    solve(meal_cost, tip_percent, tax_percent)\n"
   ],
   "outputs": [
    {
     "output_type": "stream",
     "name": "stdout",
     "text": [
      "15\n"
     ]
    }
   ],
   "metadata": {}
  },
  {
   "cell_type": "markdown",
   "source": [
    "## Day 3: Intro to Conditional Statements\n",
    "\n",
    "Task: Given an integer, n, perform the following conditional actions:\n",
    "* If n is odd, print Weird\n",
    "* If n is even and in the inclusive range of 2 to 5, print Not Weird\n",
    "* If n is even and in the inclusive range of 6 to 20, print Weird\n",
    "* If n is even and greater than 20, print Not Weird\n",
    "\n",
    "Complete the stub code provided in your editor to print whether or not  is weird."
   ],
   "metadata": {}
  },
  {
   "cell_type": "code",
   "execution_count": 11,
   "source": [
    "#!/bin/python3\n",
    "\n",
    "import math\n",
    "import os\n",
    "import random\n",
    "import re\n",
    "import sys\n",
    "\n",
    "if __name__ == '__main__':\n",
    "    N = int(input().strip())\n",
    "\n",
    "    if N % 2 != 0:\n",
    "        print('Weird')\n",
    "\n",
    "    else:\n",
    "        if 2 <= N <= 5:\n",
    "            print('Not Weird')\n",
    "        \n",
    "        elif 6 <= N <= 20:\n",
    "            print('Weird')\n",
    "        \n",
    "        else:\n",
    "            print('Not Weird')"
   ],
   "outputs": [
    {
     "output_type": "stream",
     "name": "stdout",
     "text": [
      "Weird\n"
     ]
    }
   ],
   "metadata": {}
  },
  {
   "cell_type": "markdown",
   "source": [
    "## Day 4: Class vs. Instance\n",
    "\n",
    "Task: Write a Person class with an instance variable, age, and a constructor that takes an integer, initialAge, as a parameter. The constructor must assign initialAge to age after confirming the argument passed as initialAge is not negative; if a negative argument is passed as initialAge, the constructor should set age to 0 and print Age is not valid, setting age to 0.\n",
    "\n",
    "In addition, you must write the following instance methods:\n",
    "\n",
    "1. yearPasses() should increase the  instance variable by .\n",
    "2. amIOld() should perform the following conditional actions:\n",
    "* If age < 13, print You are young..\n",
    "* If  age >= 13 and age < 18, print You are a teenager..\n",
    "* Otherwise, print You are old."
   ],
   "metadata": {}
  },
  {
   "cell_type": "code",
   "execution_count": 2,
   "source": [
    "class Person:\n",
    "\n",
    "    def __init__(self, initialAge):\n",
    "        if initialAge < 0:\n",
    "            self.age = 0\n",
    "            print('Age is not valid, setting age to 0.')\n",
    "        \n",
    "        else:\n",
    "            self.age = initialAge\n",
    "\n",
    "    def amIOld(self):\n",
    "        if self.age < 13:\n",
    "            print('You are young.')\n",
    "        \n",
    "        elif self.age >= 13 and self.age < 18:\n",
    "            print('You are a teenager.')\n",
    "        \n",
    "        else:\n",
    "            print('You are old.')\n",
    "\n",
    "    def yearPasses(self):\n",
    "        self.age += 1\n",
    "\n",
    "t = int(input())\n",
    "for i in range(0, t):\n",
    "    age = int(input())         \n",
    "    p = Person(age)  \n",
    "    p.amIOld()\n",
    "    for j in range(0, 3):\n",
    "        p.yearPasses()       \n",
    "    p.amIOld()\n",
    "    print(\"\")"
   ],
   "outputs": [
    {
     "output_type": "stream",
     "name": "stdout",
     "text": [
      "Age is not valid, setting age to 0.\n",
      "You are young.\n",
      "You are young.\n",
      "\n",
      "You are young.\n",
      "You are a teenager.\n",
      "\n",
      "You are a teenager.\n",
      "You are old.\n",
      "\n",
      "You are old.\n",
      "You are old.\n",
      "\n"
     ]
    }
   ],
   "metadata": {}
  },
  {
   "cell_type": "markdown",
   "source": [
    "## Day 5: Loops\n",
    "\n",
    "Task: Given an integer, n, print its first 10 multiples. Each multiple n x i (where 1 <= i <= 10) should be printed on a new line in the form: n x i = result."
   ],
   "metadata": {}
  },
  {
   "cell_type": "code",
   "execution_count": 1,
   "source": [
    "#!/bin/python3\n",
    "\n",
    "import math\n",
    "import os\n",
    "import random\n",
    "import re\n",
    "import sys\n",
    "\n",
    "if __name__ == '__main__':\n",
    "    n = int(input().strip())\n",
    "\n",
    "    for i in range(1, 11):\n",
    "        print(f'{n} x {i} = {n * i}')"
   ],
   "outputs": [
    {
     "output_type": "stream",
     "name": "stdout",
     "text": [
      "2 x 1 = 2\n",
      "2 x 2 = 4\n",
      "2 x 3 = 6\n",
      "2 x 4 = 8\n",
      "2 x 5 = 10\n",
      "2 x 6 = 12\n",
      "2 x 7 = 14\n",
      "2 x 8 = 16\n",
      "2 x 9 = 18\n",
      "2 x 10 = 20\n"
     ]
    }
   ],
   "metadata": {}
  },
  {
   "cell_type": "markdown",
   "source": [
    "## Day 6: Let's Review\n",
    "\n",
    "Task: Given a string, S, of length N that is indexed from 0 to N - 1, print its even-indexed and odd-indexed characters as 2 space-separated strings on a single line (see the Sample below for more detail).\n",
    "\n",
    "Note: 0 is considered to be an even index."
   ],
   "metadata": {}
  },
  {
   "cell_type": "code",
   "execution_count": 16,
   "source": [
    "if __name__ == '__main__':\n",
    "    \n",
    "    T = int(input())\n",
    "\n",
    "    for i in range(T):\n",
    "        S = input()\n",
    "\n",
    "        even_words = ''\n",
    "        odd_words = ''\n",
    "\n",
    "        for j in range(len(S)):\n",
    "            if j % 2 == 0:\n",
    "                even_words += S[j]\n",
    "            \n",
    "            if j % 2 != 0:\n",
    "                odd_words += S[j]\n",
    "\n",
    "        print(f'{even_words} {odd_words}')"
   ],
   "outputs": [
    {
     "output_type": "stream",
     "name": "stdout",
     "text": [
      "Hce akr\n",
      "Rn ak\n"
     ]
    }
   ],
   "metadata": {}
  },
  {
   "cell_type": "markdown",
   "source": [
    "## Day 7: Arrays\n",
    "\n",
    "Task: Given an array, A, of N integers, print A's elements in reverse order as a single line of space-separated numbers."
   ],
   "metadata": {}
  },
  {
   "cell_type": "code",
   "execution_count": 4,
   "source": [
    "#!/bin/python3\n",
    "\n",
    "import math\n",
    "import os\n",
    "import random\n",
    "import re\n",
    "import sys\n",
    "\n",
    "if __name__ == '__main__':\n",
    "    n = int(input().strip())\n",
    "\n",
    "    arr = list(map(int, input().rstrip().split()))\n",
    "    \n",
    "    for i in range(n - 1, -1, -1):\n",
    "        print(arr[i], end=' ')"
   ],
   "outputs": [
    {
     "output_type": "stream",
     "name": "stdout",
     "text": [
      "2 3 4 1 "
     ]
    }
   ],
   "metadata": {}
  },
  {
   "cell_type": "markdown",
   "source": [
    "## Day 8: Dictionaries and Maps\n",
    "\n",
    "Task: Given n names and phone numbers, assemble a phone book that maps friends' names to their respective phone numbers. You will then be given an unknown number of names to query your phone book for. For each name queried, print the associated entry from your phone book on a new line in the form name=phoneNumber; if an entry for name is not found, print Not found instead."
   ],
   "metadata": {}
  },
  {
   "cell_type": "code",
   "execution_count": 1,
   "source": [
    "import sys\n",
    "\n",
    "n = int(input())\n",
    "\n",
    "usr_dict = dict()\n",
    "\n",
    "for i in range(n):\n",
    "    usr_input = input()\n",
    "    split_input = usr_input.split()\n",
    "    usr_dict[split_input[0]] = split_input[1]\n",
    "\n",
    "input_lines = sys.stdin.readlines()\n",
    "\n",
    "for i in input_lines:\n",
    "    search_name = i.rstrip('\\n')\n",
    "    \n",
    "    if search_name in usr_dict:\n",
    "        print(f'{search_name}={usr_dict[search_name]}')\n",
    "\n",
    "    else:\n",
    "        print('Not found')"
   ],
   "outputs": [],
   "metadata": {}
  },
  {
   "cell_type": "markdown",
   "source": [
    "## Day 9: Recursion 3\n",
    "\n",
    "Task: Complete the factorial function in the editor below. Be sure to use recursion."
   ],
   "metadata": {}
  },
  {
   "cell_type": "code",
   "execution_count": 6,
   "source": [
    "#!/bin/python3\n",
    "\n",
    "import math\n",
    "import os\n",
    "import random\n",
    "import re\n",
    "import sys\n",
    "\n",
    "#\n",
    "# Complete the 'factorial' function below.\n",
    "#\n",
    "# The function is expected to return an INTEGER.\n",
    "# The function accepts INTEGER n as parameter.\n",
    "#\n",
    "\n",
    "def factorial(n):\n",
    "    if n == 1:\n",
    "        return 1\n",
    "    \n",
    "    else:\n",
    "        result = n * factorial(n - 1)\n",
    "    \n",
    "    return result\n",
    "\n",
    "n = int(input())\n",
    "\n",
    "output = factorial(n)\n",
    "print(output)"
   ],
   "outputs": [
    {
     "output_type": "stream",
     "name": "stdout",
     "text": [
      "6\n"
     ]
    }
   ],
   "metadata": {}
  },
  {
   "cell_type": "markdown",
   "source": [
    "## Day 10: Binary Numbers\n",
    "\n",
    "Task: Given a base-10 integer, n, convert it to binary (base-2). Then find and print the base-10 integer denoting the maximum number of consecutive 1's in n's binary representation. When working with different bases, it is common to show the base as a subscript."
   ],
   "metadata": {}
  },
  {
   "cell_type": "code",
   "execution_count": 41,
   "source": [
    "#!/bin/python3\n",
    "\n",
    "import math\n",
    "import os\n",
    "import random\n",
    "import re\n",
    "import sys\n",
    "\n",
    "if __name__ == '__main__':\n",
    "    n = int(input().strip())\n",
    "    binary = []\n",
    "    ones_list = []\n",
    "    count = 0\n",
    "\n",
    "    while n >= 1:\n",
    "        rem = int(n % 2)\n",
    "        binary.append(rem)\n",
    "        n //= 2\n",
    "\n",
    "    binary.reverse()\n",
    "\n",
    "    for i in range(len(binary)):\n",
    "        if binary[i] == 1:\n",
    "            count += 1\n",
    "        else:\n",
    "            count = 0\n",
    "\n",
    "        ones_list.append(count)\n",
    "            \n",
    "    print(max(ones_list))\n"
   ],
   "outputs": [
    {
     "output_type": "stream",
     "name": "stdout",
     "text": [
      "2\n"
     ]
    }
   ],
   "metadata": {}
  },
  {
   "cell_type": "markdown",
   "source": [
    "## Day 11: 2D Arrays\n",
    "\n",
    "Task: Calculate the hourglass sum for every hourglass in A, then print the maximum hourglass sum."
   ],
   "metadata": {}
  },
  {
   "cell_type": "code",
   "execution_count": 5,
   "source": [
    "import numpy as np\n",
    "\n",
    "A = [[1,1,1,0,0,0],\n",
    "     [0,1,0,0,0,0],\n",
    "     [1,1,1,0,0,0],\n",
    "     [0,0,2,4,4,0],\n",
    "     [0,0,0,2,0,0],\n",
    "     [0,0,1,2,4,0]]\n",
    "\n",
    "max_sum = -63\n",
    "\n",
    "for i in range(4):\n",
    "    for j in range(4):\n",
    "        upper = A[i][j] + A[i][j + 1] + A[i][j + 2]\n",
    "        middle = A[i + 1][j + 1] \n",
    "        lower = A[i + 2][j] + A[i + 2][j + 1] + A[i + 2][j + 2]\n",
    "\n",
    "        sub_sum = np.sum([upper, middle, lower])\n",
    "\n",
    "        if sub_sum > max_sum:\n",
    "            max_sum = sub_sum\n",
    "\n",
    "print(max_sum)"
   ],
   "outputs": [
    {
     "output_type": "stream",
     "name": "stdout",
     "text": [
      "19\n"
     ]
    }
   ],
   "metadata": {}
  },
  {
   "cell_type": "markdown",
   "source": [
    "## Day 12: Inheritance\n",
    "\n",
    "Task: You are given two classes, Person and Student, where Person is the base class and Student is the derived class. Completed code for Person and a declaration for Student are provided for you in the editor. Observe that Student inherits all the properties of Person."
   ],
   "metadata": {}
  },
  {
   "cell_type": "code",
   "execution_count": 6,
   "source": [
    "class Person:\n",
    "\tdef __init__(self, firstName, lastName, idNumber):\n",
    "\t\tself.firstName = firstName\n",
    "\t\tself.lastName = lastName\n",
    "\t\tself.idNumber = idNumber\n",
    "\tdef printPerson(self):\n",
    "\t\tprint(\"Name:\", self.lastName + \",\", self.firstName)\n",
    "\t\tprint(\"ID:\", self.idNumber)\n",
    "\n",
    "class Student(Person):\n",
    "    #   Class Constructor\n",
    "    #   \n",
    "    #   Parameters:\n",
    "    #   firstName - A string denoting the Person's first name.\n",
    "    #   lastName - A string denoting the Person's last name.\n",
    "    #   id - An integer denoting the Person's ID number.\n",
    "    #   scores - An array of integers denoting the Person's test scores.\n",
    "    #\n",
    "    # Write your constructor here\n",
    "    def __init__(self, firstName, lastName, idNumber, scores):\n",
    "        self.firstName = firstName\n",
    "        self.lastName = lastName\n",
    "        self.idNumber = idNumber\n",
    "        self.scores = scores\n",
    "    \n",
    "\n",
    "    #   Function Name: calculate\n",
    "    #   Return: A character denoting the grade.\n",
    "    #\n",
    "    # Write your function here\n",
    "    def calculate(self):\n",
    "        \n",
    "        average_score = sum(self.scores) / len(self.scores)\n",
    "        \n",
    "        if 90 <= average_score <= 100:\n",
    "            return 'O'\n",
    "        \n",
    "        elif 80 <= average_score < 90:\n",
    "            return 'E'\n",
    "        \n",
    "        elif 70 <= average_score < 80:\n",
    "            return 'A'\n",
    "        \n",
    "        elif 55 <= average_score < 70:\n",
    "            return 'P'\n",
    "        \n",
    "        elif 40 <= average_score < 55:\n",
    "            return 'D'\n",
    "        \n",
    "        else:\n",
    "            return 'T'\n",
    "        \n",
    "\n",
    "line = input().split()\n",
    "firstName = line[0]\n",
    "lastName = line[1]\n",
    "idNum = line[2]\n",
    "numScores = int(input()) # not needed for Python\n",
    "scores = list( map(int, input().split()) )\n",
    "s = Student(firstName, lastName, idNum, scores)\n",
    "s.printPerson()\n",
    "print(\"Grade:\", s.calculate())"
   ],
   "outputs": [
    {
     "output_type": "stream",
     "name": "stdout",
     "text": [
      "Name: Memelli, Heraldo\n",
      "ID: 8135627\n",
      "Grade: O\n"
     ]
    }
   ],
   "metadata": {}
  },
  {
   "cell_type": "markdown",
   "source": [
    "## Day 13: Abstract Classes\n",
    "\n",
    "Task: Given a Book class and a Solution class, write a MyBook class"
   ],
   "metadata": {}
  },
  {
   "cell_type": "code",
   "execution_count": 7,
   "source": [
    "from abc import ABCMeta, abstractmethod\n",
    "\n",
    "class Book(object, metaclass=ABCMeta):\n",
    "    def __init__(self,title,author):\n",
    "        self.title=title\n",
    "        self.author=author   \n",
    "    @abstractmethod\n",
    "    def display(): pass\n",
    "\n",
    "#Write MyBook class\n",
    "class MyBook(Book):\n",
    "    def __init__(self, title, author, price):\n",
    "        self.title = title\n",
    "        self.author = author\n",
    "        self.price = price\n",
    "    \n",
    "    def display(self):\n",
    "        print(f'Title: {self.title}')\n",
    "        print(f'Author: {self.author}')\n",
    "        print(f'Price: {self.price}')\n",
    "        \n",
    "title=input()\n",
    "author=input()\n",
    "price=int(input())\n",
    "new_novel=MyBook(title,author,price)\n",
    "new_novel.display()"
   ],
   "outputs": [
    {
     "output_type": "stream",
     "name": "stdout",
     "text": [
      "Title: The Alchemist\n",
      "Author: Paulo Coelho\n",
      "Price: 248\n"
     ]
    }
   ],
   "metadata": {}
  },
  {
   "cell_type": "markdown",
   "source": [
    "## Day 14: Scope\n",
    "\n",
    "Task: Complete the Difference class by writing the following:\n",
    "\n",
    "* A class constructor that takes an array of integers as a parameter and saves it to the __elements  instance variable.\n",
    "* A computeDifference method that finds the maximum absolute difference between any 2 numbers in __elements and stores it in the maximumDifference instance variable."
   ],
   "metadata": {}
  },
  {
   "cell_type": "code",
   "execution_count": 10,
   "source": [
    "class Difference:\n",
    "    def __init__(self, a):\n",
    "        self.__elements = a\n",
    "\n",
    "    # Add your code here\n",
    "    def computeDifference(self):\n",
    "        self.maximumDifference = abs(max(self.__elements) - min(self.__elements))\n",
    "            \n",
    "# End of Difference class\n",
    "\n",
    "_ = input()\n",
    "a = [int(e) for e in input().split(' ')]\n",
    "\n",
    "d = Difference(a)\n",
    "d.computeDifference()\n",
    "\n",
    "print(d.maximumDifference)"
   ],
   "outputs": [
    {
     "output_type": "stream",
     "name": "stdout",
     "text": [
      "4\n"
     ]
    }
   ],
   "metadata": {}
  },
  {
   "cell_type": "markdown",
   "source": [
    "## Day 15: Linked List\n",
    "\n",
    "Task: Complete the insert function in your editor so that it creates a new Node (pass data as the Node constructor argument) and inserts it at the tail of the linked list referenced by the head parameter. Once the new node is added, return the reference to the head node."
   ],
   "metadata": {}
  },
  {
   "cell_type": "code",
   "execution_count": 1,
   "source": [
    "class Node:\n",
    "    def __init__(self,data):\n",
    "        self.data = data\n",
    "        self.next = None \n",
    "        \n",
    "class Solution: \n",
    "    def display(self,head):\n",
    "        current = head\n",
    "        while current:\n",
    "            print(current.data,end=' ')\n",
    "            current = current.next\n",
    "\n",
    "    def insert(self,head,data): \n",
    "    #Complete this method\n",
    "        new_Node = Node(data)\n",
    "        \n",
    "        if head == None:\n",
    "            head = new_Node\n",
    "            self.tail = head\n",
    "            \n",
    "        else:\n",
    "            self.tail.next = new_Node\n",
    "            self.tail = new_Node\n",
    "    \n",
    "        return head\n",
    "            \n",
    "mylist= Solution()\n",
    "T=int(input())\n",
    "head=None\n",
    "for i in range(T):\n",
    "    data=int(input())\n",
    "    head=mylist.insert(head,data) \n",
    "mylist.display(head); \t  "
   ],
   "outputs": [
    {
     "output_type": "stream",
     "name": "stdout",
     "text": [
      "2 3 4 1 "
     ]
    }
   ],
   "metadata": {}
  },
  {
   "cell_type": "markdown",
   "source": [
    "## Day 16: Exceptions - String to Integer\n",
    "\n",
    "Task: Read a string, S, and print its integer value; if S cannot be converted to an integer, print Bad String."
   ],
   "metadata": {}
  },
  {
   "cell_type": "code",
   "execution_count": 2,
   "source": [
    "#!/bin/python3\n",
    "\n",
    "import math\n",
    "import os\n",
    "import random\n",
    "import re\n",
    "import sys\n",
    "\n",
    "S = input()\n",
    "\n",
    "try:\n",
    "    S_int = int(S)\n",
    "    print(S_int)\n",
    "\n",
    "except ValueError:\n",
    "    print('Bad String')"
   ],
   "outputs": [
    {
     "output_type": "stream",
     "name": "stdout",
     "text": [
      "3\n"
     ]
    }
   ],
   "metadata": {}
  },
  {
   "cell_type": "markdown",
   "source": [
    "## Day 17: More Exceptions\n",
    "\n",
    "Task: Write a Calculator class with a single method: int power(int,int). The power method takes two integers, n and p, as parameters and returns the integer result of n^p. If either n or p is negative, then the method must throw an exception with the message: n and p should be non-negative."
   ],
   "metadata": {}
  },
  {
   "cell_type": "code",
   "execution_count": 3,
   "source": [
    "#Write your code here\n",
    "class Calculator:\n",
    "    def power(self, n, p):\n",
    "        if n < 0 or p < 0:\n",
    "            raise Exception('n and p should be non-negative')\n",
    "        else:\n",
    "            result = int(n ** p)\n",
    "            return result\n",
    "        \n",
    "myCalculator=Calculator()\n",
    "T=int(input())\n",
    "for i in range(T):\n",
    "    n,p = map(int, input().split())\n",
    "    try:\n",
    "        ans=myCalculator.power(n,p)\n",
    "        print(ans)\n",
    "    except Exception as e:\n",
    "        print(e)   "
   ],
   "outputs": [
    {
     "output_type": "stream",
     "name": "stdout",
     "text": [
      "243\n",
      "16\n",
      "n and p should be non-negative\n",
      "n and p should be non-negative\n"
     ]
    }
   ],
   "metadata": {}
  },
  {
   "cell_type": "markdown",
   "source": [
    "## Day 18: Queues and Stacks\n",
    "\n",
    "Task: Determine if a given string, s, is a palindrome"
   ],
   "metadata": {}
  },
  {
   "cell_type": "code",
   "execution_count": 4,
   "source": [
    "import sys\n",
    "\n",
    "class Solution:\n",
    "    # Write your code here\n",
    "    def __init__(self):\n",
    "        self.stack = list()\n",
    "        self.queue = list()\n",
    "        \n",
    "    def pushCharacter(self, ch):\n",
    "        self.stack.append(ch)\n",
    "        \n",
    "    def enqueueCharacter(self, ch):\n",
    "        self.queue.append(ch)\n",
    "        \n",
    "    def popCharacter(self):\n",
    "        last = self.stack[-1]\n",
    "        self.stack = self.stack[:-1]\n",
    "        return last\n",
    "\n",
    "    def dequeueCharacter(self):\n",
    "        first = self.queue[0]\n",
    "        self.queue = self.queue[1:]\n",
    "        return first\n",
    "        \n",
    "# read the string s\n",
    "s=input()\n",
    "#Create the Solution class object\n",
    "obj=Solution()   \n",
    "\n",
    "l=len(s)\n",
    "# push/enqueue all the characters of string s to stack\n",
    "for i in range(l):\n",
    "    obj.pushCharacter(s[i])\n",
    "    obj.enqueueCharacter(s[i])\n",
    "    \n",
    "isPalindrome=True\n",
    "'''\n",
    "pop the top character from stack\n",
    "dequeue the first character from queue\n",
    "compare both the characters\n",
    "''' \n",
    "for i in range(l // 2):\n",
    "    if obj.popCharacter()!=obj.dequeueCharacter():\n",
    "        isPalindrome=False\n",
    "        break\n",
    "#finally print whether string s is palindrome or not.\n",
    "if isPalindrome:\n",
    "    print(\"The word, \"+s+\", is a palindrome.\")\n",
    "else:\n",
    "    print(\"The word, \"+s+\", is not a palindrome.\")    "
   ],
   "outputs": [
    {
     "output_type": "stream",
     "name": "stdout",
     "text": [
      "The word, racecar, is a palindrome.\n"
     ]
    }
   ],
   "metadata": {}
  },
  {
   "cell_type": "markdown",
   "source": [
    "## Day 19: Interfaces\n",
    "\n",
    "Task: The AdvancedArithmetic interface and the method declaration for the abstract divisorSum(n) method are provided for you in the editor below. Complete the implementation of Calculator class, which implements the AdvancedArithmetic interface. The implementation for the divisorSum(n) method must return the sum of all divisors of n."
   ],
   "metadata": {}
  },
  {
   "cell_type": "code",
   "execution_count": 5,
   "source": [
    "class AdvancedArithmetic(object):\n",
    "    def divisorSum(n):\n",
    "        raise NotImplementedError\n",
    "\n",
    "class Calculator(AdvancedArithmetic):\n",
    "    def divisorSum(self, n):\n",
    "        sum_div = 0\n",
    "        \n",
    "        for i in range(1, n + 1):\n",
    "            if n % i == 0:\n",
    "                sum_div += i\n",
    "        \n",
    "        return sum_div\n",
    "                \n",
    "n = int(input())\n",
    "my_calculator = Calculator()\n",
    "s = my_calculator.divisorSum(n)\n",
    "print(\"I implemented: \" + type(my_calculator).__bases__[0].__name__)\n",
    "print(s)"
   ],
   "outputs": [
    {
     "output_type": "stream",
     "name": "stdout",
     "text": [
      "I implemented: AdvancedArithmetic\n",
      "12\n"
     ]
    }
   ],
   "metadata": {}
  },
  {
   "cell_type": "markdown",
   "source": [
    "## Day 20: Sorting\n",
    "\n",
    "Task: Given an array, a, of size n distinct elements, sort the array in ascending order using the Bubble Sort algorithm above."
   ],
   "metadata": {}
  },
  {
   "cell_type": "code",
   "execution_count": 6,
   "source": [
    "#!/bin/python3\n",
    "\n",
    "import math\n",
    "import os\n",
    "import random\n",
    "import re\n",
    "import sys\n",
    "\n",
    "if __name__ == '__main__':\n",
    "    n = int(input().strip())\n",
    "\n",
    "    a = list(map(int, input().rstrip().split()))\n",
    "        \n",
    "    # Write your code here\n",
    "    numberOfSwaps = 0\n",
    "    \n",
    "    for i in range(0, n):\n",
    "        for j in range(0, n - 1):\n",
    "            if a[j] > a[j + 1]:\n",
    "                # Swapping \n",
    "                temp = a[j]\n",
    "                a[j] = a[j + 1]\n",
    "                a[j + 1] = temp\n",
    "                \n",
    "                numberOfSwaps += 1\n",
    "        \n",
    "        if numberOfSwaps == 0:\n",
    "            break\n",
    "        \n",
    "    print(f'Array is sorted in {numberOfSwaps} swaps.')     \n",
    "    print(f'First Element: {a[0]}')\n",
    "    print(f'Last Element: {a[-1]}')       "
   ],
   "outputs": [
    {
     "output_type": "stream",
     "name": "stdout",
     "text": [
      "Array is sorted in 3 swaps.\n",
      "First Element: 1\n",
      "Last Element: 3\n"
     ]
    }
   ],
   "metadata": {}
  },
  {
   "cell_type": "markdown",
   "source": [
    "## Day 21: Sorting\n",
    "\n",
    "Cannot be implemented in Python"
   ],
   "metadata": {}
  },
  {
   "cell_type": "markdown",
   "source": [
    "## Day 22: Binary Search Trees\n",
    "\n",
    "Task: The height of a binary search tree is the number of edges between the tree's root and its furthest leaf. You are given a pointer, root, pointing to the root of a binary search tree. Complete the getHeight function provided in your editor so that it returns the height of the binary search tree."
   ],
   "metadata": {}
  },
  {
   "cell_type": "code",
   "execution_count": 7,
   "source": [
    "class Node:\n",
    "    def __init__(self,data):\n",
    "        self.right=self.left=None\n",
    "        self.data = data\n",
    "        \n",
    "class Solution:\n",
    "    def insert(self,root,data):\n",
    "        if root==None:\n",
    "            return Node(data)\n",
    "        else:\n",
    "            if data<=root.data:\n",
    "                cur=self.insert(root.left,data)\n",
    "                root.left=cur\n",
    "            else:\n",
    "                cur=self.insert(root.right,data)\n",
    "                root.right=cur\n",
    "        return root\n",
    "\n",
    "    def getHeight(self,root):\n",
    "        if root == None or (root.left == None and root.right == None):\n",
    "            return 0\n",
    "        \n",
    "        else:\n",
    "            if self.getHeight(root.left) > self.getHeight(root.right):\n",
    "                return self.getHeight(root.left) + 1\n",
    "            \n",
    "            else:\n",
    "                return self.getHeight(root.right) + 1\n",
    "                \n",
    "                \n",
    "T=int(input())"
   ],
   "outputs": [],
   "metadata": {}
  },
  {
   "cell_type": "markdown",
   "source": [
    "## Day 23: BST Level-Order Traversal\n",
    "\n",
    "Task: A level-order traversal, also known as a breadth-first search, visits each level of a tree's nodes from left to right, top to bottom. You are given a pointer, root, pointing to the root of a binary search tree. Complete the levelOrder function provided in your editor so that it prints the level-order traversal of the binary search tree."
   ],
   "metadata": {}
  },
  {
   "cell_type": "code",
   "execution_count": 10,
   "source": [
    "import sys\n",
    "\n",
    "class Node:\n",
    "    def __init__(self,data):\n",
    "        self.right=self.left=None\n",
    "        self.data = data\n",
    "        \n",
    "class Solution:\n",
    "    def insert(self,root,data):\n",
    "        if root==None:\n",
    "            return Node(data)\n",
    "        else:\n",
    "            if data<=root.data:\n",
    "                cur=self.insert(root.left,data)\n",
    "                root.left=cur\n",
    "            else:\n",
    "                cur=self.insert(root.right,data)\n",
    "                root.right=cur\n",
    "        return root\n",
    "\n",
    "    def levelOrder(self,root):\n",
    "        queue = [root]\n",
    "        \n",
    "        while len(queue) != 0:\n",
    "            element = queue[0]\n",
    "            queue = queue[1:]\n",
    "            \n",
    "            print(f'{element.data} ', end='')\n",
    "            \n",
    "            if element.left != None:\n",
    "                queue.append(element.left)\n",
    "                \n",
    "            if element.right != None:\n",
    "                queue.append(element.right)\n",
    "\n",
    "T=int(input())\n",
    "myTree=Solution()\n",
    "root=None\n",
    "for i in range(T):\n",
    "    data=int(input())\n",
    "    root=myTree.insert(root,data)\n",
    "myTree.levelOrder(root)"
   ],
   "outputs": [
    {
     "output_type": "stream",
     "name": "stdout",
     "text": [
      "3 2 5 1 4 7 "
     ]
    }
   ],
   "metadata": {}
  },
  {
   "cell_type": "markdown",
   "source": [
    "## Day 24: More Linked Lists\n",
    "\n",
    "Task: A Node class is provided for you in the editor. A Node object has an integer data field, data, and a Node instance pointer, next, pointing to another node (i.e.: the next node in a list). A removeDuplicates function is declared in your editor, which takes a pointer to the head node of a linked list as a parameter. Complete removeDuplicates so that it deletes any duplicate nodes from the list and returns the head of the updated list."
   ],
   "metadata": {}
  },
  {
   "cell_type": "code",
   "execution_count": 11,
   "source": [
    "class Node:\n",
    "    def __init__(self,data):\n",
    "        self.data = data\n",
    "        self.next = None \n",
    "\n",
    "class Solution: \n",
    "    def insert(self,head,data):\n",
    "            p = Node(data)           \n",
    "            if head==None:\n",
    "                head=p\n",
    "            elif head.next==None:\n",
    "                head.next=p\n",
    "            else:\n",
    "                start=head\n",
    "                while(start.next!=None):\n",
    "                    start=start.next\n",
    "                start.next=p\n",
    "            return head  \n",
    "\n",
    "    def display(self,head):\n",
    "        current = head\n",
    "        while current:\n",
    "            print(current.data,end=' ')\n",
    "            current = current.next\n",
    "\n",
    "    def removeDuplicates(self,head):\n",
    "        curr_node = head\n",
    "        \n",
    "        while curr_node:\n",
    "            if (curr_node.next) and (curr_node.data == curr_node.next.data):\n",
    "                curr_node.next = curr_node.next.next\n",
    "                continue\n",
    "                \n",
    "            curr_node = curr_node.next\n",
    "        \n",
    "        return head\n",
    "                \n",
    "mylist= Solution()\n",
    "T=int(input())\n",
    "head=None\n",
    "for i in range(T):\n",
    "    data=int(input())\n",
    "    head=mylist.insert(head,data)    \n",
    "head=mylist.removeDuplicates(head)\n",
    "mylist.display(head); "
   ],
   "outputs": [
    {
     "output_type": "stream",
     "name": "stdout",
     "text": [
      "1 2 3 4 "
     ]
    }
   ],
   "metadata": {}
  },
  {
   "cell_type": "markdown",
   "source": [
    "## Day 25: Running Time and Complexity\n",
    "\n",
    "Task: A prime is a natural number greater than 1 that has no positive divisors other than 1 and itself. Given a number, n, determine and print whether it is Prime or Not prime."
   ],
   "metadata": {}
  },
  {
   "cell_type": "code",
   "execution_count": 9,
   "source": [
    "# Enter your code here. Read input from STDIN. Print output to STDOUT\n",
    "\n",
    "def is_prime(n):\n",
    "    if n == 1:\n",
    "        return 'Not prime'\n",
    "\n",
    "    else:\n",
    "        for i in range(2, int(n / 2) + 1):\n",
    "            if n % i == 0:\n",
    "                return 'Not prime'\n",
    "        \n",
    "    return 'Prime'\n",
    "\n",
    "T = int(input())\n",
    "\n",
    "for i in range(T):\n",
    "    n = int(input())\n",
    "\n",
    "    print(is_prime(n))        "
   ],
   "outputs": [
    {
     "output_type": "stream",
     "name": "stdout",
     "text": [
      "Not prime\n",
      "Prime\n",
      "Prime\n"
     ]
    }
   ],
   "metadata": {}
  },
  {
   "cell_type": "markdown",
   "source": [
    "## Day 26: Nested Logic\n",
    "\n",
    "Task: Your local library needs your help! Given the expected and actual return dates for a library book, create a program that calculates the fine (if any)."
   ],
   "metadata": {}
  },
  {
   "cell_type": "code",
   "execution_count": 19,
   "source": [
    "# Enter your code here. Read input from STDIN. Print output to STDOUT\n",
    "actual = input().split(' ')\n",
    "actual = [int(i) for i in actual]\n",
    "\n",
    "expected = input().split(' ')\n",
    "expected = [int(i) for i in expected]\n",
    "\n",
    "fine = 0\n",
    "\n",
    "if actual[2] == expected[2]:\n",
    "    if (actual[0] > expected[0]) and (actual[1] == expected[1]):\n",
    "        fine = 15 * (actual[0] - expected[0])\n",
    "    \n",
    "    elif actual[1] > expected[1]:\n",
    "        fine = 500 * (actual[1] - expected[1])\n",
    "        \n",
    "elif actual[2] > expected[2]:\n",
    "    fine = 10000\n",
    "    \n",
    "else:\n",
    "    fine = 0\n",
    "        \n",
    "print(fine)"
   ],
   "outputs": [
    {
     "output_type": "stream",
     "name": "stdout",
     "text": [
      "45\n"
     ]
    }
   ],
   "metadata": {}
  },
  {
   "cell_type": "markdown",
   "source": [
    "## Day 27: Testing\n",
    "\n",
    "Task: This problem is about unit testing.\n",
    "\n",
    "Your company needs a function that meets the following requirements:\n",
    "\n",
    "* For a given array of  integers, the function returns the index of the element with the minimum value in the array. If there is more than one element with the minimum value, it returns the smallest one.\n",
    "\n",
    "* If an empty array is passed to the function, it raises an exception. A colleague has written this method. The implementation in Python is listed below. Implementations in other languages can be found in the code template."
   ],
   "metadata": {}
  },
  {
   "cell_type": "code",
   "execution_count": 20,
   "source": [
    "def minimum_index(seq):\n",
    "    if len(seq) == 0:\n",
    "        raise ValueError(\"Cannot get the minimum value index from an empty sequence\")\n",
    "    min_idx = 0\n",
    "    for i in range(1, len(seq)):\n",
    "        if seq[i] < seq[min_idx]:\n",
    "            min_idx = i\n",
    "    return min_idx\n",
    "\n",
    "class TestDataEmptyArray(object):\n",
    "    @staticmethod\n",
    "    def get_array():\n",
    "        return []\n",
    "    \n",
    "class TestDataUniqueValues(object):\n",
    "    @staticmethod\n",
    "    def get_array():\n",
    "        return [3, 7, 2, 1, 11]\n",
    "    \n",
    "    @staticmethod\n",
    "    def get_expected_result():\n",
    "        return 3\n",
    "    \n",
    "class TestDataExactlyTwoDifferentMinimums(object):\n",
    "    @staticmethod\n",
    "    def get_array():\n",
    "        return [1, 7, 2, 1, 11]\n",
    "    \n",
    "    @staticmethod\n",
    "    def get_expected_result():\n",
    "        return 0\n",
    "\n",
    "def TestWithEmptyArray():\n",
    "    try:\n",
    "        seq = TestDataEmptyArray.get_array()\n",
    "        result = minimum_index(seq)\n",
    "    except ValueError as e:\n",
    "        pass\n",
    "    else:\n",
    "        assert False\n",
    "\n",
    "\n",
    "def TestWithUniqueValues():\n",
    "    seq = TestDataUniqueValues.get_array()\n",
    "    assert len(seq) >= 2\n",
    "\n",
    "    assert len(list(set(seq))) == len(seq)\n",
    "\n",
    "    expected_result = TestDataUniqueValues.get_expected_result()\n",
    "    result = minimum_index(seq)\n",
    "    assert result == expected_result\n",
    "\n",
    "\n",
    "def TestiWithExactyTwoDifferentMinimums():\n",
    "    seq = TestDataExactlyTwoDifferentMinimums.get_array()\n",
    "    assert len(seq) >= 2\n",
    "    tmp = sorted(seq)\n",
    "    assert tmp[0] == tmp[1] and (len(tmp) == 2 or tmp[1] < tmp[2])\n",
    "\n",
    "    expected_result = TestDataExactlyTwoDifferentMinimums.get_expected_result()\n",
    "    result = minimum_index(seq)\n",
    "    assert result == expected_result\n",
    "\n",
    "TestWithEmptyArray()\n",
    "TestWithUniqueValues()\n",
    "TestiWithExactyTwoDifferentMinimums()\n",
    "print(\"OK\")"
   ],
   "outputs": [
    {
     "output_type": "stream",
     "name": "stdout",
     "text": [
      "OK\n"
     ]
    }
   ],
   "metadata": {}
  },
  {
   "cell_type": "markdown",
   "source": [
    "## Day 28: RegEx, Patterns, and Intro to Databases\n",
    "\n",
    "Task: Consider a database table, Emails, which has the attributes First Name and Email ID. Given N rows of data simulating the Emails table, print an alphabetically-ordered list of people whose email address ends in @gmail.com."
   ],
   "metadata": {}
  },
  {
   "cell_type": "code",
   "execution_count": 8,
   "source": [
    "#!/bin/python3\n",
    "\n",
    "import math\n",
    "import os\n",
    "import random\n",
    "import re\n",
    "import sys\n",
    "\n",
    "\n",
    "if __name__ == '__main__':\n",
    "    N = int(input().strip())\n",
    "    \n",
    "    names = []\n",
    "\n",
    "    for N_itr in range(N):\n",
    "        first_multiple_input = input().rstrip().split()\n",
    "\n",
    "        firstName = first_multiple_input[0]\n",
    "\n",
    "        emailID = first_multiple_input[1]\n",
    "            \n",
    "        if '@gmail.com' in emailID:\n",
    "            names.append(firstName)\n",
    "            \n",
    "    names.sort(reverse=False)\n",
    "    \n",
    "    for i in range(len(names)):\n",
    "        print(names[i])"
   ],
   "outputs": [
    {
     "output_type": "stream",
     "name": "stdout",
     "text": [
      "julia\n",
      "julia\n",
      "riya\n",
      "samantha\n",
      "tanya\n"
     ]
    }
   ],
   "metadata": {}
  },
  {
   "cell_type": "markdown",
   "source": [
    "## Day 29: Bitwise AND\n",
    "\n",
    "Task: Given set S = {1, 2, 3, ..., N}. Find two integers, A and B (where A < B), from set S such that the value of A&B is the maximum possible and also less than a given integer, K. In this case, & represents the bitwise AND operator."
   ],
   "metadata": {}
  },
  {
   "cell_type": "code",
   "execution_count": 24,
   "source": [
    "#!/bin/python3\n",
    "\n",
    "import math\n",
    "import os\n",
    "import random\n",
    "import re\n",
    "import sys\n",
    "\n",
    "#\n",
    "# Complete the 'bitwiseAnd' function below.\n",
    "#\n",
    "# The function is expected to return an INTEGER.\n",
    "# The function accepts following parameters:\n",
    "#  1. INTEGER N\n",
    "#  2. INTEGER K\n",
    "#\n",
    "\n",
    "def bitwiseAnd(N, K):\n",
    "    max_val = 0\n",
    "    \n",
    "    for i in range(N):\n",
    "        for j in range(i + 1, N):\n",
    "            comb = i & j\n",
    "            if K > comb and comb > max_val:\n",
    "                max_val = comb\n",
    "    \n",
    "    return max_val\n",
    "\n",
    "if __name__ == '__main__':\n",
    "  \n",
    "    t = int(input().strip())\n",
    "\n",
    "    for t_itr in range(t):\n",
    "        first_multiple_input = input().rstrip().split()\n",
    "\n",
    "        count = int(first_multiple_input[0])\n",
    "\n",
    "        lim = int(first_multiple_input[1])\n",
    "\n",
    "        res = bitwiseAnd(count, lim)\n",
    "\n",
    "        print(res)"
   ],
   "outputs": [
    {
     "output_type": "stream",
     "name": "stdout",
     "text": [
      "1\n",
      "4\n",
      "0\n"
     ]
    }
   ],
   "metadata": {}
  }
 ],
 "metadata": {
  "orig_nbformat": 4,
  "language_info": {
   "name": "python",
   "version": "3.8.8",
   "mimetype": "text/x-python",
   "codemirror_mode": {
    "name": "ipython",
    "version": 3
   },
   "pygments_lexer": "ipython3",
   "nbconvert_exporter": "python",
   "file_extension": ".py"
  },
  "kernelspec": {
   "name": "python3",
   "display_name": "Python 3.8.8 64-bit ('my_env': conda)"
  },
  "interpreter": {
   "hash": "6bdcbf3522e5e2369515f3809ca22aeeb55bb1e96520a69c17cbfc31a23d1987"
  }
 },
 "nbformat": 4,
 "nbformat_minor": 2
}