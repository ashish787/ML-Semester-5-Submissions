{
 "cells": [
  {
   "cell_type": "markdown",
   "id": "ecdfd1ea",
   "metadata": {
    "papermill": {
     "duration": 0.030596,
     "end_time": "2021-10-09T11:15:00.960112",
     "exception": false,
     "start_time": "2021-10-09T11:15:00.929516",
     "status": "completed"
    },
    "tags": []
   },
   "source": [
    "# M2 - ML Competition\n",
    "\n",
    "### Name: Ashish Nanda\n",
    "### Roll No.: J041\n",
    "### Batch - 2"
   ]
  },
  {
   "cell_type": "code",
   "execution_count": 1,
   "id": "682aec2d",
   "metadata": {
    "_cell_guid": "b1076dfc-b9ad-4769-8c92-a6c4dae69d19",
    "_uuid": "8f2839f25d086af736a60e9eeb907d3b93b6e0e5",
    "execution": {
     "iopub.execute_input": "2021-10-09T11:15:01.032329Z",
     "iopub.status.busy": "2021-10-09T11:15:01.031700Z",
     "iopub.status.idle": "2021-10-09T11:15:03.530198Z",
     "shell.execute_reply": "2021-10-09T11:15:03.530654Z",
     "shell.execute_reply.started": "2021-10-09T07:54:10.347781Z"
    },
    "papermill": {
     "duration": 2.53933,
     "end_time": "2021-10-09T11:15:03.530959",
     "exception": false,
     "start_time": "2021-10-09T11:15:00.991629",
     "status": "completed"
    },
    "tags": []
   },
   "outputs": [
    {
     "data": {
      "text/html": [
       "<style type='text/css'>\n",
       ".datatable table.frame { margin-bottom: 0; }\n",
       ".datatable table.frame thead { border-bottom: none; }\n",
       ".datatable table.frame tr.coltypes td {  color: #FFFFFF;  line-height: 6px;  padding: 0 0.5em;}\n",
       ".datatable .bool    { background: #DDDD99; }\n",
       ".datatable .object  { background: #565656; }\n",
       ".datatable .int     { background: #5D9E5D; }\n",
       ".datatable .float   { background: #4040CC; }\n",
       ".datatable .str     { background: #CC4040; }\n",
       ".datatable .time    { background: #40CC40; }\n",
       ".datatable .row_index {  background: var(--jp-border-color3);  border-right: 1px solid var(--jp-border-color0);  color: var(--jp-ui-font-color3);  font-size: 9px;}\n",
       ".datatable .frame tbody td { text-align: left; }\n",
       ".datatable .frame tr.coltypes .row_index {  background: var(--jp-border-color0);}\n",
       ".datatable th:nth-child(2) { padding-left: 12px; }\n",
       ".datatable .hellipsis {  color: var(--jp-cell-editor-border-color);}\n",
       ".datatable .vellipsis {  background: var(--jp-layout-color0);  color: var(--jp-cell-editor-border-color);}\n",
       ".datatable .na {  color: var(--jp-cell-editor-border-color);  font-size: 80%;}\n",
       ".datatable .sp {  opacity: 0.25;}\n",
       ".datatable .footer { font-size: 9px; }\n",
       ".datatable .frame_dimensions {  background: var(--jp-border-color3);  border-top: 1px solid var(--jp-border-color0);  color: var(--jp-ui-font-color3);  display: inline-block;  opacity: 0.6;  padding: 1px 10px 1px 5px;}\n",
       "</style>\n"
      ],
      "text/plain": [
       "<IPython.core.display.HTML object>"
      ]
     },
     "metadata": {},
     "output_type": "display_data"
    },
    {
     "name": "stdout",
     "output_type": "stream",
     "text": [
      "/kaggle/input/nmims-m2-batch-2/train.csv\n",
      "/kaggle/input/nmims-m2-batch-2/test.csv\n"
     ]
    }
   ],
   "source": [
    "# This Python 3 environment comes with many helpful analytics libraries installed\n",
    "# It is defined by the kaggle/python Docker image: https://github.com/kaggle/docker-python\n",
    "# For example, here's several helpful packages to load\n",
    "\n",
    "import numpy as np # linear algebra\n",
    "import pandas as pd # data processing, CSV file I/O (e.g. pd.read_csv)\n",
    "from sklearn.preprocessing import LabelEncoder\n",
    "from sklearn.model_selection import train_test_split\n",
    "from catboost import CatBoostRegressor\n",
    "from sklearn.ensemble import RandomForestRegressor\n",
    "import lightgbm as lgb\n",
    "from xgboost import XGBRegressor\n",
    "from sklearn.ensemble import GradientBoostingRegressor\n",
    "from sklearn.tree import DecisionTreeRegressor\n",
    "from sklearn.metrics import mean_absolute_error, make_scorer\n",
    "from tqdm import tqdm\n",
    "from sklearn.model_selection import KFold, StratifiedKFold\n",
    "from sklearn.model_selection import GridSearchCV\n",
    "import warnings\n",
    "warnings.filterwarnings(\"ignore\")\n",
    "\n",
    "# Input data files are available in the read-only \"../input/\" directory\n",
    "# For example, running this (by clicking run or pressing Shift+Enter) will list all files under the input directory\n",
    "\n",
    "import os\n",
    "for dirname, _, filenames in os.walk('/kaggle/input'):\n",
    "    for filename in filenames:\n",
    "        print(os.path.join(dirname, filename))\n",
    "\n",
    "# You can write up to 20GB to the current directory (/kaggle/working/) that gets preserved as output when you create a version using \"Save & Run All\" \n",
    "# You can also write temporary files to /kaggle/temp/, but they won't be saved outside of the current session"
   ]
  },
  {
   "cell_type": "code",
   "execution_count": 2,
   "id": "5da40f89",
   "metadata": {
    "execution": {
     "iopub.execute_input": "2021-10-09T11:15:03.595369Z",
     "iopub.status.busy": "2021-10-09T11:15:03.594406Z",
     "iopub.status.idle": "2021-10-09T11:15:04.171706Z",
     "shell.execute_reply": "2021-10-09T11:15:04.171190Z",
     "shell.execute_reply.started": "2021-10-09T07:54:11.791002Z"
    },
    "papermill": {
     "duration": 0.610541,
     "end_time": "2021-10-09T11:15:04.171852",
     "exception": false,
     "start_time": "2021-10-09T11:15:03.561311",
     "status": "completed"
    },
    "tags": []
   },
   "outputs": [],
   "source": [
    "train = pd.read_csv('../input/nmims-m2-batch-2/train.csv')\n",
    "\n",
    "test = pd.read_csv('../input/nmims-m2-batch-2/test.csv')"
   ]
  },
  {
   "cell_type": "code",
   "execution_count": 3,
   "id": "32836e1e",
   "metadata": {
    "execution": {
     "iopub.execute_input": "2021-10-09T11:15:04.238440Z",
     "iopub.status.busy": "2021-10-09T11:15:04.237756Z",
     "iopub.status.idle": "2021-10-09T11:15:04.252825Z",
     "shell.execute_reply": "2021-10-09T11:15:04.253399Z",
     "shell.execute_reply.started": "2021-10-09T07:54:12.236326Z"
    },
    "papermill": {
     "duration": 0.0517,
     "end_time": "2021-10-09T11:15:04.253567",
     "exception": false,
     "start_time": "2021-10-09T11:15:04.201867",
     "status": "completed"
    },
    "tags": []
   },
   "outputs": [
    {
     "data": {
      "text/html": [
       "<div>\n",
       "<style scoped>\n",
       "    .dataframe tbody tr th:only-of-type {\n",
       "        vertical-align: middle;\n",
       "    }\n",
       "\n",
       "    .dataframe tbody tr th {\n",
       "        vertical-align: top;\n",
       "    }\n",
       "\n",
       "    .dataframe thead th {\n",
       "        text-align: right;\n",
       "    }\n",
       "</style>\n",
       "<table border=\"1\" class=\"dataframe\">\n",
       "  <thead>\n",
       "    <tr style=\"text-align: right;\">\n",
       "      <th></th>\n",
       "      <th>id</th>\n",
       "      <th>month</th>\n",
       "      <th>town</th>\n",
       "      <th>flat_type</th>\n",
       "      <th>block</th>\n",
       "      <th>street_name</th>\n",
       "      <th>storey_range</th>\n",
       "      <th>floor_area_sqm</th>\n",
       "      <th>flat_model</th>\n",
       "      <th>lease_commence_date</th>\n",
       "      <th>resale_price</th>\n",
       "    </tr>\n",
       "  </thead>\n",
       "  <tbody>\n",
       "    <tr>\n",
       "      <th>0</th>\n",
       "      <td>137901</td>\n",
       "      <td>1994-09</td>\n",
       "      <td>HOUGANG</td>\n",
       "      <td>4 ROOM</td>\n",
       "      <td>443</td>\n",
       "      <td>HOUGANG AVE 8</td>\n",
       "      <td>07 TO 09</td>\n",
       "      <td>103.0</td>\n",
       "      <td>MODEL A</td>\n",
       "      <td>1990</td>\n",
       "      <td>193000</td>\n",
       "    </tr>\n",
       "    <tr>\n",
       "      <th>1</th>\n",
       "      <td>47497</td>\n",
       "      <td>1999-06</td>\n",
       "      <td>ANG MO KIO</td>\n",
       "      <td>3 ROOM</td>\n",
       "      <td>461</td>\n",
       "      <td>ANG MO KIO AVE 10</td>\n",
       "      <td>07 TO 09</td>\n",
       "      <td>68.0</td>\n",
       "      <td>NEW GENERATION</td>\n",
       "      <td>1980</td>\n",
       "      <td>150000</td>\n",
       "    </tr>\n",
       "    <tr>\n",
       "      <th>2</th>\n",
       "      <td>250681</td>\n",
       "      <td>1995-06</td>\n",
       "      <td>BEDOK</td>\n",
       "      <td>5 ROOM</td>\n",
       "      <td>67</td>\n",
       "      <td>BEDOK STH AVE 3</td>\n",
       "      <td>07 TO 09</td>\n",
       "      <td>123.0</td>\n",
       "      <td>STANDARD</td>\n",
       "      <td>1977</td>\n",
       "      <td>340000</td>\n",
       "    </tr>\n",
       "    <tr>\n",
       "      <th>3</th>\n",
       "      <td>227426</td>\n",
       "      <td>1996-03</td>\n",
       "      <td>BEDOK</td>\n",
       "      <td>3 ROOM</td>\n",
       "      <td>530</td>\n",
       "      <td>BEDOK NTH ST 3</td>\n",
       "      <td>04 TO 06</td>\n",
       "      <td>68.0</td>\n",
       "      <td>NEW GENERATION</td>\n",
       "      <td>1979</td>\n",
       "      <td>153000</td>\n",
       "    </tr>\n",
       "    <tr>\n",
       "      <th>4</th>\n",
       "      <td>277594</td>\n",
       "      <td>1994-10</td>\n",
       "      <td>BISHAN</td>\n",
       "      <td>3 ROOM</td>\n",
       "      <td>306</td>\n",
       "      <td>SHUNFU RD</td>\n",
       "      <td>04 TO 06</td>\n",
       "      <td>71.0</td>\n",
       "      <td>NEW GENERATION</td>\n",
       "      <td>1985</td>\n",
       "      <td>116000</td>\n",
       "    </tr>\n",
       "  </tbody>\n",
       "</table>\n",
       "</div>"
      ],
      "text/plain": [
       "       id    month        town flat_type block        street_name  \\\n",
       "0  137901  1994-09     HOUGANG    4 ROOM   443      HOUGANG AVE 8   \n",
       "1   47497  1999-06  ANG MO KIO    3 ROOM   461  ANG MO KIO AVE 10   \n",
       "2  250681  1995-06       BEDOK    5 ROOM    67    BEDOK STH AVE 3   \n",
       "3  227426  1996-03       BEDOK    3 ROOM   530     BEDOK NTH ST 3   \n",
       "4  277594  1994-10      BISHAN    3 ROOM   306          SHUNFU RD   \n",
       "\n",
       "  storey_range  floor_area_sqm      flat_model  lease_commence_date  \\\n",
       "0     07 TO 09           103.0         MODEL A                 1990   \n",
       "1     07 TO 09            68.0  NEW GENERATION                 1980   \n",
       "2     07 TO 09           123.0        STANDARD                 1977   \n",
       "3     04 TO 06            68.0  NEW GENERATION                 1979   \n",
       "4     04 TO 06            71.0  NEW GENERATION                 1985   \n",
       "\n",
       "   resale_price  \n",
       "0        193000  \n",
       "1        150000  \n",
       "2        340000  \n",
       "3        153000  \n",
       "4        116000  "
      ]
     },
     "execution_count": 3,
     "metadata": {},
     "output_type": "execute_result"
    }
   ],
   "source": [
    "train.head()"
   ]
  },
  {
   "cell_type": "code",
   "execution_count": 4,
   "id": "1b679ff8",
   "metadata": {
    "execution": {
     "iopub.execute_input": "2021-10-09T11:15:04.317699Z",
     "iopub.status.busy": "2021-10-09T11:15:04.317105Z",
     "iopub.status.idle": "2021-10-09T11:15:04.330073Z",
     "shell.execute_reply": "2021-10-09T11:15:04.329625Z",
     "shell.execute_reply.started": "2021-10-09T07:54:12.260824Z"
    },
    "papermill": {
     "duration": 0.046585,
     "end_time": "2021-10-09T11:15:04.330229",
     "exception": false,
     "start_time": "2021-10-09T11:15:04.283644",
     "status": "completed"
    },
    "tags": []
   },
   "outputs": [
    {
     "data": {
      "text/html": [
       "<div>\n",
       "<style scoped>\n",
       "    .dataframe tbody tr th:only-of-type {\n",
       "        vertical-align: middle;\n",
       "    }\n",
       "\n",
       "    .dataframe tbody tr th {\n",
       "        vertical-align: top;\n",
       "    }\n",
       "\n",
       "    .dataframe thead th {\n",
       "        text-align: right;\n",
       "    }\n",
       "</style>\n",
       "<table border=\"1\" class=\"dataframe\">\n",
       "  <thead>\n",
       "    <tr style=\"text-align: right;\">\n",
       "      <th></th>\n",
       "      <th>id</th>\n",
       "      <th>month</th>\n",
       "      <th>town</th>\n",
       "      <th>flat_type</th>\n",
       "      <th>block</th>\n",
       "      <th>street_name</th>\n",
       "      <th>storey_range</th>\n",
       "      <th>floor_area_sqm</th>\n",
       "      <th>flat_model</th>\n",
       "      <th>lease_commence_date</th>\n",
       "    </tr>\n",
       "  </thead>\n",
       "  <tbody>\n",
       "    <tr>\n",
       "      <th>0</th>\n",
       "      <td>5</td>\n",
       "      <td>1997-12</td>\n",
       "      <td>TOA PAYOH</td>\n",
       "      <td>3 ROOM</td>\n",
       "      <td>96</td>\n",
       "      <td>LOR 3 TOA PAYOH</td>\n",
       "      <td>13 TO 15</td>\n",
       "      <td>68.0</td>\n",
       "      <td>IMPROVED</td>\n",
       "      <td>1970</td>\n",
       "    </tr>\n",
       "    <tr>\n",
       "      <th>1</th>\n",
       "      <td>6</td>\n",
       "      <td>1997-02</td>\n",
       "      <td>JURONG EAST</td>\n",
       "      <td>5 ROOM</td>\n",
       "      <td>53</td>\n",
       "      <td>TEBAN GDNS RD</td>\n",
       "      <td>01 TO 03</td>\n",
       "      <td>121.0</td>\n",
       "      <td>IMPROVED</td>\n",
       "      <td>1986</td>\n",
       "    </tr>\n",
       "    <tr>\n",
       "      <th>2</th>\n",
       "      <td>15</td>\n",
       "      <td>1999-04</td>\n",
       "      <td>BEDOK</td>\n",
       "      <td>3 ROOM</td>\n",
       "      <td>71</td>\n",
       "      <td>BEDOK STH RD</td>\n",
       "      <td>07 TO 09</td>\n",
       "      <td>67.0</td>\n",
       "      <td>NEW GENERATION</td>\n",
       "      <td>1978</td>\n",
       "    </tr>\n",
       "    <tr>\n",
       "      <th>3</th>\n",
       "      <td>20</td>\n",
       "      <td>1995-06</td>\n",
       "      <td>YISHUN</td>\n",
       "      <td>3 ROOM</td>\n",
       "      <td>133</td>\n",
       "      <td>YISHUN ST 11</td>\n",
       "      <td>04 TO 06</td>\n",
       "      <td>68.0</td>\n",
       "      <td>NEW GENERATION</td>\n",
       "      <td>1984</td>\n",
       "    </tr>\n",
       "    <tr>\n",
       "      <th>4</th>\n",
       "      <td>21</td>\n",
       "      <td>1992-11</td>\n",
       "      <td>JURONG WEST</td>\n",
       "      <td>3 ROOM</td>\n",
       "      <td>211</td>\n",
       "      <td>BOON LAY PL</td>\n",
       "      <td>10 TO 12</td>\n",
       "      <td>65.0</td>\n",
       "      <td>IMPROVED</td>\n",
       "      <td>1976</td>\n",
       "    </tr>\n",
       "  </tbody>\n",
       "</table>\n",
       "</div>"
      ],
      "text/plain": [
       "   id    month         town flat_type block      street_name storey_range  \\\n",
       "0   5  1997-12    TOA PAYOH    3 ROOM    96  LOR 3 TOA PAYOH     13 TO 15   \n",
       "1   6  1997-02  JURONG EAST    5 ROOM    53    TEBAN GDNS RD     01 TO 03   \n",
       "2  15  1999-04        BEDOK    3 ROOM    71     BEDOK STH RD     07 TO 09   \n",
       "3  20  1995-06       YISHUN    3 ROOM   133     YISHUN ST 11     04 TO 06   \n",
       "4  21  1992-11  JURONG WEST    3 ROOM   211      BOON LAY PL     10 TO 12   \n",
       "\n",
       "   floor_area_sqm      flat_model  lease_commence_date  \n",
       "0            68.0        IMPROVED                 1970  \n",
       "1           121.0        IMPROVED                 1986  \n",
       "2            67.0  NEW GENERATION                 1978  \n",
       "3            68.0  NEW GENERATION                 1984  \n",
       "4            65.0        IMPROVED                 1976  "
      ]
     },
     "execution_count": 4,
     "metadata": {},
     "output_type": "execute_result"
    }
   ],
   "source": [
    "test.head()"
   ]
  },
  {
   "cell_type": "code",
   "execution_count": 5,
   "id": "c02c195b",
   "metadata": {
    "execution": {
     "iopub.execute_input": "2021-10-09T11:15:04.396875Z",
     "iopub.status.busy": "2021-10-09T11:15:04.396122Z",
     "iopub.status.idle": "2021-10-09T11:15:04.399155Z",
     "shell.execute_reply": "2021-10-09T11:15:04.399578Z",
     "shell.execute_reply.started": "2021-10-09T07:54:12.277981Z"
    },
    "papermill": {
     "duration": 0.039214,
     "end_time": "2021-10-09T11:15:04.399733",
     "exception": false,
     "start_time": "2021-10-09T11:15:04.360519",
     "status": "completed"
    },
    "tags": []
   },
   "outputs": [
    {
     "data": {
      "text/plain": [
       "((201037, 11), (86159, 10))"
      ]
     },
     "execution_count": 5,
     "metadata": {},
     "output_type": "execute_result"
    }
   ],
   "source": [
    "train.shape, test.shape"
   ]
  },
  {
   "cell_type": "markdown",
   "id": "622419f6",
   "metadata": {
    "papermill": {
     "duration": 0.030644,
     "end_time": "2021-10-09T11:15:04.461039",
     "exception": false,
     "start_time": "2021-10-09T11:15:04.430395",
     "status": "completed"
    },
    "tags": []
   },
   "source": [
    "#### Merging the train and test datasets for pre-processing"
   ]
  },
  {
   "cell_type": "code",
   "execution_count": 6,
   "id": "bad2630a",
   "metadata": {
    "execution": {
     "iopub.execute_input": "2021-10-09T11:15:04.532262Z",
     "iopub.status.busy": "2021-10-09T11:15:04.531369Z",
     "iopub.status.idle": "2021-10-09T11:15:04.677409Z",
     "shell.execute_reply": "2021-10-09T11:15:04.676889Z",
     "shell.execute_reply.started": "2021-10-09T07:54:13.654868Z"
    },
    "papermill": {
     "duration": 0.185799,
     "end_time": "2021-10-09T11:15:04.677563",
     "exception": false,
     "start_time": "2021-10-09T11:15:04.491764",
     "status": "completed"
    },
    "tags": []
   },
   "outputs": [],
   "source": [
    "test['resale_price'] = -1 \n",
    "\n",
    "test_ID = test['id']\n",
    "\n",
    "df = pd.concat([train, test], axis=0)\n",
    "\n",
    "df.drop('id', axis=1, inplace=True)"
   ]
  },
  {
   "cell_type": "code",
   "execution_count": 7,
   "id": "8883e49f",
   "metadata": {
    "execution": {
     "iopub.execute_input": "2021-10-09T11:15:04.755408Z",
     "iopub.status.busy": "2021-10-09T11:15:04.754610Z",
     "iopub.status.idle": "2021-10-09T11:15:04.758199Z",
     "shell.execute_reply": "2021-10-09T11:15:04.757653Z",
     "shell.execute_reply.started": "2021-10-09T07:54:14.395855Z"
    },
    "papermill": {
     "duration": 0.048298,
     "end_time": "2021-10-09T11:15:04.758331",
     "exception": false,
     "start_time": "2021-10-09T11:15:04.710033",
     "status": "completed"
    },
    "tags": []
   },
   "outputs": [
    {
     "data": {
      "text/html": [
       "<div>\n",
       "<style scoped>\n",
       "    .dataframe tbody tr th:only-of-type {\n",
       "        vertical-align: middle;\n",
       "    }\n",
       "\n",
       "    .dataframe tbody tr th {\n",
       "        vertical-align: top;\n",
       "    }\n",
       "\n",
       "    .dataframe thead th {\n",
       "        text-align: right;\n",
       "    }\n",
       "</style>\n",
       "<table border=\"1\" class=\"dataframe\">\n",
       "  <thead>\n",
       "    <tr style=\"text-align: right;\">\n",
       "      <th></th>\n",
       "      <th>month</th>\n",
       "      <th>town</th>\n",
       "      <th>flat_type</th>\n",
       "      <th>block</th>\n",
       "      <th>street_name</th>\n",
       "      <th>storey_range</th>\n",
       "      <th>floor_area_sqm</th>\n",
       "      <th>flat_model</th>\n",
       "      <th>lease_commence_date</th>\n",
       "      <th>resale_price</th>\n",
       "    </tr>\n",
       "  </thead>\n",
       "  <tbody>\n",
       "    <tr>\n",
       "      <th>0</th>\n",
       "      <td>1994-09</td>\n",
       "      <td>HOUGANG</td>\n",
       "      <td>4 ROOM</td>\n",
       "      <td>443</td>\n",
       "      <td>HOUGANG AVE 8</td>\n",
       "      <td>07 TO 09</td>\n",
       "      <td>103.0</td>\n",
       "      <td>MODEL A</td>\n",
       "      <td>1990</td>\n",
       "      <td>193000</td>\n",
       "    </tr>\n",
       "    <tr>\n",
       "      <th>1</th>\n",
       "      <td>1999-06</td>\n",
       "      <td>ANG MO KIO</td>\n",
       "      <td>3 ROOM</td>\n",
       "      <td>461</td>\n",
       "      <td>ANG MO KIO AVE 10</td>\n",
       "      <td>07 TO 09</td>\n",
       "      <td>68.0</td>\n",
       "      <td>NEW GENERATION</td>\n",
       "      <td>1980</td>\n",
       "      <td>150000</td>\n",
       "    </tr>\n",
       "    <tr>\n",
       "      <th>2</th>\n",
       "      <td>1995-06</td>\n",
       "      <td>BEDOK</td>\n",
       "      <td>5 ROOM</td>\n",
       "      <td>67</td>\n",
       "      <td>BEDOK STH AVE 3</td>\n",
       "      <td>07 TO 09</td>\n",
       "      <td>123.0</td>\n",
       "      <td>STANDARD</td>\n",
       "      <td>1977</td>\n",
       "      <td>340000</td>\n",
       "    </tr>\n",
       "    <tr>\n",
       "      <th>3</th>\n",
       "      <td>1996-03</td>\n",
       "      <td>BEDOK</td>\n",
       "      <td>3 ROOM</td>\n",
       "      <td>530</td>\n",
       "      <td>BEDOK NTH ST 3</td>\n",
       "      <td>04 TO 06</td>\n",
       "      <td>68.0</td>\n",
       "      <td>NEW GENERATION</td>\n",
       "      <td>1979</td>\n",
       "      <td>153000</td>\n",
       "    </tr>\n",
       "    <tr>\n",
       "      <th>4</th>\n",
       "      <td>1994-10</td>\n",
       "      <td>BISHAN</td>\n",
       "      <td>3 ROOM</td>\n",
       "      <td>306</td>\n",
       "      <td>SHUNFU RD</td>\n",
       "      <td>04 TO 06</td>\n",
       "      <td>71.0</td>\n",
       "      <td>NEW GENERATION</td>\n",
       "      <td>1985</td>\n",
       "      <td>116000</td>\n",
       "    </tr>\n",
       "  </tbody>\n",
       "</table>\n",
       "</div>"
      ],
      "text/plain": [
       "     month        town flat_type block        street_name storey_range  \\\n",
       "0  1994-09     HOUGANG    4 ROOM   443      HOUGANG AVE 8     07 TO 09   \n",
       "1  1999-06  ANG MO KIO    3 ROOM   461  ANG MO KIO AVE 10     07 TO 09   \n",
       "2  1995-06       BEDOK    5 ROOM    67    BEDOK STH AVE 3     07 TO 09   \n",
       "3  1996-03       BEDOK    3 ROOM   530     BEDOK NTH ST 3     04 TO 06   \n",
       "4  1994-10      BISHAN    3 ROOM   306          SHUNFU RD     04 TO 06   \n",
       "\n",
       "   floor_area_sqm      flat_model  lease_commence_date  resale_price  \n",
       "0           103.0         MODEL A                 1990        193000  \n",
       "1            68.0  NEW GENERATION                 1980        150000  \n",
       "2           123.0        STANDARD                 1977        340000  \n",
       "3            68.0  NEW GENERATION                 1979        153000  \n",
       "4            71.0  NEW GENERATION                 1985        116000  "
      ]
     },
     "execution_count": 7,
     "metadata": {},
     "output_type": "execute_result"
    }
   ],
   "source": [
    "df.head()"
   ]
  },
  {
   "cell_type": "code",
   "execution_count": 8,
   "id": "c6197b44",
   "metadata": {
    "execution": {
     "iopub.execute_input": "2021-10-09T11:15:04.918837Z",
     "iopub.status.busy": "2021-10-09T11:15:04.917821Z",
     "iopub.status.idle": "2021-10-09T11:15:04.937683Z",
     "shell.execute_reply": "2021-10-09T11:15:04.937109Z",
     "shell.execute_reply.started": "2021-10-09T07:54:14.893401Z"
    },
    "papermill": {
     "duration": 0.14824,
     "end_time": "2021-10-09T11:15:04.937819",
     "exception": false,
     "start_time": "2021-10-09T11:15:04.789579",
     "status": "completed"
    },
    "tags": []
   },
   "outputs": [
    {
     "name": "stdout",
     "output_type": "stream",
     "text": [
      "<class 'pandas.core.frame.DataFrame'>\n",
      "Int64Index: 287196 entries, 0 to 86158\n",
      "Data columns (total 10 columns):\n",
      " #   Column               Non-Null Count   Dtype  \n",
      "---  ------               --------------   -----  \n",
      " 0   month                287196 non-null  object \n",
      " 1   town                 287196 non-null  object \n",
      " 2   flat_type            287196 non-null  object \n",
      " 3   block                287196 non-null  object \n",
      " 4   street_name          287196 non-null  object \n",
      " 5   storey_range         287196 non-null  object \n",
      " 6   floor_area_sqm       287196 non-null  float64\n",
      " 7   flat_model           287196 non-null  object \n",
      " 8   lease_commence_date  287196 non-null  int64  \n",
      " 9   resale_price         287196 non-null  int64  \n",
      "dtypes: float64(1), int64(2), object(7)\n",
      "memory usage: 24.1+ MB\n"
     ]
    }
   ],
   "source": [
    "df.info()"
   ]
  },
  {
   "cell_type": "code",
   "execution_count": 9,
   "id": "7d34c21b",
   "metadata": {
    "execution": {
     "iopub.execute_input": "2021-10-09T11:15:05.013363Z",
     "iopub.status.busy": "2021-10-09T11:15:05.012669Z",
     "iopub.status.idle": "2021-10-09T11:15:05.055163Z",
     "shell.execute_reply": "2021-10-09T11:15:05.054712Z",
     "shell.execute_reply.started": "2021-10-09T07:54:15.506985Z"
    },
    "papermill": {
     "duration": 0.085081,
     "end_time": "2021-10-09T11:15:05.055300",
     "exception": false,
     "start_time": "2021-10-09T11:15:04.970219",
     "status": "completed"
    },
    "tags": []
   },
   "outputs": [
    {
     "data": {
      "text/html": [
       "<div>\n",
       "<style scoped>\n",
       "    .dataframe tbody tr th:only-of-type {\n",
       "        vertical-align: middle;\n",
       "    }\n",
       "\n",
       "    .dataframe tbody tr th {\n",
       "        vertical-align: top;\n",
       "    }\n",
       "\n",
       "    .dataframe thead th {\n",
       "        text-align: right;\n",
       "    }\n",
       "</style>\n",
       "<table border=\"1\" class=\"dataframe\">\n",
       "  <thead>\n",
       "    <tr style=\"text-align: right;\">\n",
       "      <th></th>\n",
       "      <th>floor_area_sqm</th>\n",
       "      <th>lease_commence_date</th>\n",
       "      <th>resale_price</th>\n",
       "    </tr>\n",
       "  </thead>\n",
       "  <tbody>\n",
       "    <tr>\n",
       "      <th>count</th>\n",
       "      <td>287196.000000</td>\n",
       "      <td>287196.000000</td>\n",
       "      <td>287196.000000</td>\n",
       "    </tr>\n",
       "    <tr>\n",
       "      <th>mean</th>\n",
       "      <td>93.351778</td>\n",
       "      <td>1983.206897</td>\n",
       "      <td>153631.270874</td>\n",
       "    </tr>\n",
       "    <tr>\n",
       "      <th>std</th>\n",
       "      <td>27.361872</td>\n",
       "      <td>6.085632</td>\n",
       "      <td>146958.792542</td>\n",
       "    </tr>\n",
       "    <tr>\n",
       "      <th>min</th>\n",
       "      <td>28.000000</td>\n",
       "      <td>1967.000000</td>\n",
       "      <td>-1.000000</td>\n",
       "    </tr>\n",
       "    <tr>\n",
       "      <th>25%</th>\n",
       "      <td>68.000000</td>\n",
       "      <td>1979.000000</td>\n",
       "      <td>-1.000000</td>\n",
       "    </tr>\n",
       "    <tr>\n",
       "      <th>50%</th>\n",
       "      <td>91.000000</td>\n",
       "      <td>1984.000000</td>\n",
       "      <td>137000.000000</td>\n",
       "    </tr>\n",
       "    <tr>\n",
       "      <th>75%</th>\n",
       "      <td>113.000000</td>\n",
       "      <td>1987.000000</td>\n",
       "      <td>250000.000000</td>\n",
       "    </tr>\n",
       "    <tr>\n",
       "      <th>max</th>\n",
       "      <td>307.000000</td>\n",
       "      <td>1997.000000</td>\n",
       "      <td>883000.000000</td>\n",
       "    </tr>\n",
       "  </tbody>\n",
       "</table>\n",
       "</div>"
      ],
      "text/plain": [
       "       floor_area_sqm  lease_commence_date   resale_price\n",
       "count   287196.000000        287196.000000  287196.000000\n",
       "mean        93.351778          1983.206897  153631.270874\n",
       "std         27.361872             6.085632  146958.792542\n",
       "min         28.000000          1967.000000      -1.000000\n",
       "25%         68.000000          1979.000000      -1.000000\n",
       "50%         91.000000          1984.000000  137000.000000\n",
       "75%        113.000000          1987.000000  250000.000000\n",
       "max        307.000000          1997.000000  883000.000000"
      ]
     },
     "execution_count": 9,
     "metadata": {},
     "output_type": "execute_result"
    }
   ],
   "source": [
    "df.describe()"
   ]
  },
  {
   "cell_type": "code",
   "execution_count": 10,
   "id": "6f8befd0",
   "metadata": {
    "execution": {
     "iopub.execute_input": "2021-10-09T11:15:05.136608Z",
     "iopub.status.busy": "2021-10-09T11:15:05.121602Z",
     "iopub.status.idle": "2021-10-09T11:15:05.239003Z",
     "shell.execute_reply": "2021-10-09T11:15:05.238448Z",
     "shell.execute_reply.started": "2021-10-09T07:54:16.313342Z"
    },
    "papermill": {
     "duration": 0.152092,
     "end_time": "2021-10-09T11:15:05.239154",
     "exception": false,
     "start_time": "2021-10-09T11:15:05.087062",
     "status": "completed"
    },
    "tags": []
   },
   "outputs": [
    {
     "data": {
      "text/plain": [
       "floor_area_sqm         7.486720e+02\n",
       "lease_commence_date    3.703492e+01\n",
       "resale_price           2.159689e+10\n",
       "dtype: float64"
      ]
     },
     "execution_count": 10,
     "metadata": {},
     "output_type": "execute_result"
    }
   ],
   "source": [
    "df.var()"
   ]
  },
  {
   "cell_type": "markdown",
   "id": "9d1184e5",
   "metadata": {
    "papermill": {
     "duration": 0.031688,
     "end_time": "2021-10-09T11:15:05.303003",
     "exception": false,
     "start_time": "2021-10-09T11:15:05.271315",
     "status": "completed"
    },
    "tags": []
   },
   "source": [
    "#### The target variable has high variance"
   ]
  },
  {
   "cell_type": "code",
   "execution_count": 11,
   "id": "835407b2",
   "metadata": {
    "execution": {
     "iopub.execute_input": "2021-10-09T11:15:05.464017Z",
     "iopub.status.busy": "2021-10-09T11:15:05.462949Z",
     "iopub.status.idle": "2021-10-09T11:15:05.474197Z",
     "shell.execute_reply": "2021-10-09T11:15:05.474621Z",
     "shell.execute_reply.started": "2021-10-09T07:54:17.262352Z"
    },
    "papermill": {
     "duration": 0.139304,
     "end_time": "2021-10-09T11:15:05.474791",
     "exception": false,
     "start_time": "2021-10-09T11:15:05.335487",
     "status": "completed"
    },
    "tags": []
   },
   "outputs": [
    {
     "data": {
      "text/plain": [
       "month                  0\n",
       "town                   0\n",
       "flat_type              0\n",
       "block                  0\n",
       "street_name            0\n",
       "storey_range           0\n",
       "floor_area_sqm         0\n",
       "flat_model             0\n",
       "lease_commence_date    0\n",
       "resale_price           0\n",
       "dtype: int64"
      ]
     },
     "execution_count": 11,
     "metadata": {},
     "output_type": "execute_result"
    }
   ],
   "source": [
    "df.isna().sum()"
   ]
  },
  {
   "cell_type": "markdown",
   "id": "b3b46e07",
   "metadata": {
    "papermill": {
     "duration": 0.031846,
     "end_time": "2021-10-09T11:15:05.539610",
     "exception": false,
     "start_time": "2021-10-09T11:15:05.507764",
     "status": "completed"
    },
    "tags": []
   },
   "source": [
    "#### There are no missing values present in the dataset"
   ]
  },
  {
   "cell_type": "markdown",
   "id": "989885c5",
   "metadata": {
    "papermill": {
     "duration": 0.03208,
     "end_time": "2021-10-09T11:15:05.604003",
     "exception": false,
     "start_time": "2021-10-09T11:15:05.571923",
     "status": "completed"
    },
    "tags": []
   },
   "source": [
    "## Feature Engineering"
   ]
  },
  {
   "cell_type": "code",
   "execution_count": 12,
   "id": "3924ae90",
   "metadata": {
    "execution": {
     "iopub.execute_input": "2021-10-09T11:15:05.695059Z",
     "iopub.status.busy": "2021-10-09T11:15:05.694442Z",
     "iopub.status.idle": "2021-10-09T11:15:05.697414Z",
     "shell.execute_reply": "2021-10-09T11:15:05.696932Z",
     "shell.execute_reply.started": "2021-10-09T07:54:19.375780Z"
    },
    "papermill": {
     "duration": 0.061282,
     "end_time": "2021-10-09T11:15:05.697545",
     "exception": false,
     "start_time": "2021-10-09T11:15:05.636263",
     "status": "completed"
    },
    "tags": []
   },
   "outputs": [
    {
     "data": {
      "text/plain": [
       "3 ROOM              113102\n",
       "4 ROOM               98521\n",
       "5 ROOM               48206\n",
       "EXECUTIVE            22121\n",
       "2 ROOM                4140\n",
       "1 ROOM                 827\n",
       "MULTI GENERATION       279\n",
       "Name: flat_type, dtype: int64"
      ]
     },
     "execution_count": 12,
     "metadata": {},
     "output_type": "execute_result"
    }
   ],
   "source": [
    "df['flat_type'].value_counts()"
   ]
  },
  {
   "cell_type": "markdown",
   "id": "bb6bb13e",
   "metadata": {
    "papermill": {
     "duration": 0.032133,
     "end_time": "2021-10-09T11:15:05.762146",
     "exception": false,
     "start_time": "2021-10-09T11:15:05.730013",
     "status": "completed"
    },
    "tags": []
   },
   "source": [
    "#### Creating a feature that further groups the types of flat into 3 categories"
   ]
  },
  {
   "cell_type": "code",
   "execution_count": 13,
   "id": "12a12653",
   "metadata": {
    "execution": {
     "iopub.execute_input": "2021-10-09T11:15:05.854243Z",
     "iopub.status.busy": "2021-10-09T11:15:05.848855Z",
     "iopub.status.idle": "2021-10-09T11:15:05.898877Z",
     "shell.execute_reply": "2021-10-09T11:15:05.899428Z",
     "shell.execute_reply.started": "2021-10-09T07:54:20.867907Z"
    },
    "papermill": {
     "duration": 0.105037,
     "end_time": "2021-10-09T11:15:05.899600",
     "exception": false,
     "start_time": "2021-10-09T11:15:05.794563",
     "status": "completed"
    },
    "tags": []
   },
   "outputs": [],
   "source": [
    "def Grouping_Flat(row):\n",
    "    if row == '1 ROOM' or row == '2 ROOM' or row == '3 ROOM':\n",
    "        row = 'Type 1'\n",
    "    \n",
    "    elif row == '4 ROOM' or row == '5 ROOM':\n",
    "        row = 'Type 2'\n",
    "    \n",
    "    else:\n",
    "        row = 'Type 3'\n",
    "        \n",
    "    return row\n",
    "\n",
    "df['Flat_Type'] = df['flat_type'].apply(Grouping_Flat)"
   ]
  },
  {
   "cell_type": "markdown",
   "id": "1dbdc42f",
   "metadata": {
    "papermill": {
     "duration": 0.032435,
     "end_time": "2021-10-09T11:15:05.964904",
     "exception": false,
     "start_time": "2021-10-09T11:15:05.932469",
     "status": "completed"
    },
    "tags": []
   },
   "source": [
    "#### Creating a feature to compute the ratio of floor area to number of rooms, by extracting the number of rooms from 'flat_type' column"
   ]
  },
  {
   "cell_type": "code",
   "execution_count": 14,
   "id": "91132dd9",
   "metadata": {
    "execution": {
     "iopub.execute_input": "2021-10-09T11:15:06.036799Z",
     "iopub.status.busy": "2021-10-09T11:15:06.033327Z",
     "iopub.status.idle": "2021-10-09T11:15:06.180995Z",
     "shell.execute_reply": "2021-10-09T11:15:06.180490Z",
     "shell.execute_reply.started": "2021-10-09T07:54:22.557822Z"
    },
    "papermill": {
     "duration": 0.183388,
     "end_time": "2021-10-09T11:15:06.181158",
     "exception": false,
     "start_time": "2021-10-09T11:15:05.997770",
     "status": "completed"
    },
    "tags": []
   },
   "outputs": [],
   "source": [
    "def Extract_Rooms(row):\n",
    "    if row == 'MULTI GENERATION':\n",
    "        row = 5\n",
    "    \n",
    "    elif row == 'EXECUTIVE':\n",
    "        row = 1\n",
    "    \n",
    "    else:\n",
    "        row = int(row[0])\n",
    "        \n",
    "    return row\n",
    "\n",
    "df['Room_Count'] = df['flat_type'].apply(Extract_Rooms)\n",
    "\n",
    "df['Ratio'] = df['floor_area_sqm'] / df['Room_Count']"
   ]
  },
  {
   "cell_type": "markdown",
   "id": "bce877f7",
   "metadata": {
    "papermill": {
     "duration": 0.03235,
     "end_time": "2021-10-09T11:15:06.247022",
     "exception": false,
     "start_time": "2021-10-09T11:15:06.214672",
     "status": "completed"
    },
    "tags": []
   },
   "source": [
    "#### Creating a feature that takes the average of upper and lower storey"
   ]
  },
  {
   "cell_type": "code",
   "execution_count": 15,
   "id": "8ae56e61",
   "metadata": {
    "execution": {
     "iopub.execute_input": "2021-10-09T11:15:06.319476Z",
     "iopub.status.busy": "2021-10-09T11:15:06.318508Z",
     "iopub.status.idle": "2021-10-09T11:15:09.941169Z",
     "shell.execute_reply": "2021-10-09T11:15:09.940583Z",
     "shell.execute_reply.started": "2021-10-09T07:54:23.645131Z"
    },
    "papermill": {
     "duration": 3.661297,
     "end_time": "2021-10-09T11:15:09.941315",
     "exception": false,
     "start_time": "2021-10-09T11:15:06.280018",
     "status": "completed"
    },
    "tags": []
   },
   "outputs": [],
   "source": [
    "def Split_Storey(row):\n",
    "    left_term = int(row.split(sep=' TO ')[0])\n",
    "    right_term = int(row.split(sep=' TO ')[1])\n",
    "    row = int(np.mean([left_term, right_term]))\n",
    "        \n",
    "    return row\n",
    "\n",
    "df['Mean_Storey'] = df['storey_range'].apply(Split_Storey) "
   ]
  },
  {
   "cell_type": "markdown",
   "id": "f1f85f6b",
   "metadata": {
    "papermill": {
     "duration": 0.032557,
     "end_time": "2021-10-09T11:15:10.006692",
     "exception": false,
     "start_time": "2021-10-09T11:15:09.974135",
     "status": "completed"
    },
    "tags": []
   },
   "source": [
    "#### Creating a feature to split the 'month' column to month and year"
   ]
  },
  {
   "cell_type": "code",
   "execution_count": 16,
   "id": "a0012efc",
   "metadata": {
    "execution": {
     "iopub.execute_input": "2021-10-09T11:15:10.078292Z",
     "iopub.status.busy": "2021-10-09T11:15:10.077484Z",
     "iopub.status.idle": "2021-10-09T11:15:10.267068Z",
     "shell.execute_reply": "2021-10-09T11:15:10.266491Z",
     "shell.execute_reply.started": "2021-10-09T07:54:28.441638Z"
    },
    "papermill": {
     "duration": 0.227982,
     "end_time": "2021-10-09T11:15:10.267224",
     "exception": false,
     "start_time": "2021-10-09T11:15:10.039242",
     "status": "completed"
    },
    "tags": []
   },
   "outputs": [],
   "source": [
    "def Split_Date_Month(row):\n",
    "    row = row.split(sep='-')[1]\n",
    "    row = int(row)\n",
    "        \n",
    "    return row\n",
    "\n",
    "df['Month'] = df['month'].apply(Split_Date_Month)"
   ]
  },
  {
   "cell_type": "code",
   "execution_count": 17,
   "id": "e06fa171",
   "metadata": {
    "execution": {
     "iopub.execute_input": "2021-10-09T11:15:10.338783Z",
     "iopub.status.busy": "2021-10-09T11:15:10.338028Z",
     "iopub.status.idle": "2021-10-09T11:15:10.538542Z",
     "shell.execute_reply": "2021-10-09T11:15:10.537922Z",
     "shell.execute_reply.started": "2021-10-09T07:54:28.715140Z"
    },
    "papermill": {
     "duration": 0.238159,
     "end_time": "2021-10-09T11:15:10.538694",
     "exception": false,
     "start_time": "2021-10-09T11:15:10.300535",
     "status": "completed"
    },
    "tags": []
   },
   "outputs": [],
   "source": [
    "def Split_Date_Year(row):\n",
    "    row = row.split(sep='-')[0]\n",
    "    row = int(row)\n",
    "        \n",
    "    return row\n",
    "\n",
    "df['Year'] = df['month'].apply(Split_Date_Year)"
   ]
  },
  {
   "cell_type": "markdown",
   "id": "62d1d6d9",
   "metadata": {
    "papermill": {
     "duration": 0.03288,
     "end_time": "2021-10-09T11:15:10.604334",
     "exception": false,
     "start_time": "2021-10-09T11:15:10.571454",
     "status": "completed"
    },
    "tags": []
   },
   "source": [
    "#### Creating a feature that calculates the difference between lease commencement and end date  "
   ]
  },
  {
   "cell_type": "code",
   "execution_count": 18,
   "id": "35a26214",
   "metadata": {
    "execution": {
     "iopub.execute_input": "2021-10-09T11:15:10.677378Z",
     "iopub.status.busy": "2021-10-09T11:15:10.676552Z",
     "iopub.status.idle": "2021-10-09T11:15:10.680651Z",
     "shell.execute_reply": "2021-10-09T11:15:10.680040Z",
     "shell.execute_reply.started": "2021-10-09T07:54:28.984519Z"
    },
    "papermill": {
     "duration": 0.043269,
     "end_time": "2021-10-09T11:15:10.680785",
     "exception": false,
     "start_time": "2021-10-09T11:15:10.637516",
     "status": "completed"
    },
    "tags": []
   },
   "outputs": [],
   "source": [
    "df['Duration'] = df['Year'] - df['lease_commence_date']"
   ]
  },
  {
   "cell_type": "markdown",
   "id": "e675044a",
   "metadata": {
    "papermill": {
     "duration": 0.032899,
     "end_time": "2021-10-09T11:15:10.748359",
     "exception": false,
     "start_time": "2021-10-09T11:15:10.715460",
     "status": "completed"
    },
    "tags": []
   },
   "source": [
    "#### Unfortunately, most of the features created didn't have a positive impact on model's performance "
   ]
  },
  {
   "cell_type": "code",
   "execution_count": 19,
   "id": "6351519b",
   "metadata": {
    "execution": {
     "iopub.execute_input": "2021-10-09T11:15:10.832035Z",
     "iopub.status.busy": "2021-10-09T11:15:10.831168Z",
     "iopub.status.idle": "2021-10-09T11:15:10.835157Z",
     "shell.execute_reply": "2021-10-09T11:15:10.834581Z",
     "shell.execute_reply.started": "2021-10-09T07:54:28.992748Z"
    },
    "papermill": {
     "duration": 0.053836,
     "end_time": "2021-10-09T11:15:10.835295",
     "exception": false,
     "start_time": "2021-10-09T11:15:10.781459",
     "status": "completed"
    },
    "tags": []
   },
   "outputs": [
    {
     "data": {
      "text/html": [
       "<div>\n",
       "<style scoped>\n",
       "    .dataframe tbody tr th:only-of-type {\n",
       "        vertical-align: middle;\n",
       "    }\n",
       "\n",
       "    .dataframe tbody tr th {\n",
       "        vertical-align: top;\n",
       "    }\n",
       "\n",
       "    .dataframe thead th {\n",
       "        text-align: right;\n",
       "    }\n",
       "</style>\n",
       "<table border=\"1\" class=\"dataframe\">\n",
       "  <thead>\n",
       "    <tr style=\"text-align: right;\">\n",
       "      <th></th>\n",
       "      <th>month</th>\n",
       "      <th>town</th>\n",
       "      <th>flat_type</th>\n",
       "      <th>block</th>\n",
       "      <th>street_name</th>\n",
       "      <th>storey_range</th>\n",
       "      <th>floor_area_sqm</th>\n",
       "      <th>flat_model</th>\n",
       "      <th>lease_commence_date</th>\n",
       "      <th>resale_price</th>\n",
       "      <th>Flat_Type</th>\n",
       "      <th>Room_Count</th>\n",
       "      <th>Ratio</th>\n",
       "      <th>Mean_Storey</th>\n",
       "      <th>Month</th>\n",
       "      <th>Year</th>\n",
       "      <th>Duration</th>\n",
       "    </tr>\n",
       "  </thead>\n",
       "  <tbody>\n",
       "    <tr>\n",
       "      <th>0</th>\n",
       "      <td>1994-09</td>\n",
       "      <td>HOUGANG</td>\n",
       "      <td>4 ROOM</td>\n",
       "      <td>443</td>\n",
       "      <td>HOUGANG AVE 8</td>\n",
       "      <td>07 TO 09</td>\n",
       "      <td>103.0</td>\n",
       "      <td>MODEL A</td>\n",
       "      <td>1990</td>\n",
       "      <td>193000</td>\n",
       "      <td>Type 2</td>\n",
       "      <td>4</td>\n",
       "      <td>25.750000</td>\n",
       "      <td>8</td>\n",
       "      <td>9</td>\n",
       "      <td>1994</td>\n",
       "      <td>4</td>\n",
       "    </tr>\n",
       "    <tr>\n",
       "      <th>1</th>\n",
       "      <td>1999-06</td>\n",
       "      <td>ANG MO KIO</td>\n",
       "      <td>3 ROOM</td>\n",
       "      <td>461</td>\n",
       "      <td>ANG MO KIO AVE 10</td>\n",
       "      <td>07 TO 09</td>\n",
       "      <td>68.0</td>\n",
       "      <td>NEW GENERATION</td>\n",
       "      <td>1980</td>\n",
       "      <td>150000</td>\n",
       "      <td>Type 1</td>\n",
       "      <td>3</td>\n",
       "      <td>22.666667</td>\n",
       "      <td>8</td>\n",
       "      <td>6</td>\n",
       "      <td>1999</td>\n",
       "      <td>19</td>\n",
       "    </tr>\n",
       "    <tr>\n",
       "      <th>2</th>\n",
       "      <td>1995-06</td>\n",
       "      <td>BEDOK</td>\n",
       "      <td>5 ROOM</td>\n",
       "      <td>67</td>\n",
       "      <td>BEDOK STH AVE 3</td>\n",
       "      <td>07 TO 09</td>\n",
       "      <td>123.0</td>\n",
       "      <td>STANDARD</td>\n",
       "      <td>1977</td>\n",
       "      <td>340000</td>\n",
       "      <td>Type 2</td>\n",
       "      <td>5</td>\n",
       "      <td>24.600000</td>\n",
       "      <td>8</td>\n",
       "      <td>6</td>\n",
       "      <td>1995</td>\n",
       "      <td>18</td>\n",
       "    </tr>\n",
       "    <tr>\n",
       "      <th>3</th>\n",
       "      <td>1996-03</td>\n",
       "      <td>BEDOK</td>\n",
       "      <td>3 ROOM</td>\n",
       "      <td>530</td>\n",
       "      <td>BEDOK NTH ST 3</td>\n",
       "      <td>04 TO 06</td>\n",
       "      <td>68.0</td>\n",
       "      <td>NEW GENERATION</td>\n",
       "      <td>1979</td>\n",
       "      <td>153000</td>\n",
       "      <td>Type 1</td>\n",
       "      <td>3</td>\n",
       "      <td>22.666667</td>\n",
       "      <td>5</td>\n",
       "      <td>3</td>\n",
       "      <td>1996</td>\n",
       "      <td>17</td>\n",
       "    </tr>\n",
       "    <tr>\n",
       "      <th>4</th>\n",
       "      <td>1994-10</td>\n",
       "      <td>BISHAN</td>\n",
       "      <td>3 ROOM</td>\n",
       "      <td>306</td>\n",
       "      <td>SHUNFU RD</td>\n",
       "      <td>04 TO 06</td>\n",
       "      <td>71.0</td>\n",
       "      <td>NEW GENERATION</td>\n",
       "      <td>1985</td>\n",
       "      <td>116000</td>\n",
       "      <td>Type 1</td>\n",
       "      <td>3</td>\n",
       "      <td>23.666667</td>\n",
       "      <td>5</td>\n",
       "      <td>10</td>\n",
       "      <td>1994</td>\n",
       "      <td>9</td>\n",
       "    </tr>\n",
       "  </tbody>\n",
       "</table>\n",
       "</div>"
      ],
      "text/plain": [
       "     month        town flat_type block        street_name storey_range  \\\n",
       "0  1994-09     HOUGANG    4 ROOM   443      HOUGANG AVE 8     07 TO 09   \n",
       "1  1999-06  ANG MO KIO    3 ROOM   461  ANG MO KIO AVE 10     07 TO 09   \n",
       "2  1995-06       BEDOK    5 ROOM    67    BEDOK STH AVE 3     07 TO 09   \n",
       "3  1996-03       BEDOK    3 ROOM   530     BEDOK NTH ST 3     04 TO 06   \n",
       "4  1994-10      BISHAN    3 ROOM   306          SHUNFU RD     04 TO 06   \n",
       "\n",
       "   floor_area_sqm      flat_model  lease_commence_date  resale_price  \\\n",
       "0           103.0         MODEL A                 1990        193000   \n",
       "1            68.0  NEW GENERATION                 1980        150000   \n",
       "2           123.0        STANDARD                 1977        340000   \n",
       "3            68.0  NEW GENERATION                 1979        153000   \n",
       "4            71.0  NEW GENERATION                 1985        116000   \n",
       "\n",
       "  Flat_Type  Room_Count      Ratio  Mean_Storey  Month  Year  Duration  \n",
       "0    Type 2           4  25.750000            8      9  1994         4  \n",
       "1    Type 1           3  22.666667            8      6  1999        19  \n",
       "2    Type 2           5  24.600000            8      6  1995        18  \n",
       "3    Type 1           3  22.666667            5      3  1996        17  \n",
       "4    Type 1           3  23.666667            5     10  1994         9  "
      ]
     },
     "execution_count": 19,
     "metadata": {},
     "output_type": "execute_result"
    }
   ],
   "source": [
    "df.head()"
   ]
  },
  {
   "cell_type": "markdown",
   "id": "865929be",
   "metadata": {
    "papermill": {
     "duration": 0.035152,
     "end_time": "2021-10-09T11:15:10.904038",
     "exception": false,
     "start_time": "2021-10-09T11:15:10.868886",
     "status": "completed"
    },
    "tags": []
   },
   "source": [
    "#### Encoding categorical columns"
   ]
  },
  {
   "cell_type": "code",
   "execution_count": 20,
   "id": "8cf08400",
   "metadata": {
    "execution": {
     "iopub.execute_input": "2021-10-09T11:15:10.979995Z",
     "iopub.status.busy": "2021-10-09T11:15:10.978822Z",
     "iopub.status.idle": "2021-10-09T11:15:11.694346Z",
     "shell.execute_reply": "2021-10-09T11:15:11.693752Z",
     "shell.execute_reply.started": "2021-10-09T07:54:29.017953Z"
    },
    "papermill": {
     "duration": 0.756879,
     "end_time": "2021-10-09T11:15:11.694505",
     "exception": false,
     "start_time": "2021-10-09T11:15:10.937626",
     "status": "completed"
    },
    "tags": []
   },
   "outputs": [],
   "source": [
    "df_categorical = df.select_dtypes('object').columns\n",
    "df_categorical = list(df_categorical)\n",
    "\n",
    "encoder = LabelEncoder()\n",
    "\n",
    "for col in df_categorical:\n",
    "    df[col] = encoder.fit_transform(df[[col]])"
   ]
  },
  {
   "cell_type": "code",
   "execution_count": 21,
   "id": "db3e42ae",
   "metadata": {
    "execution": {
     "iopub.execute_input": "2021-10-09T11:15:11.781893Z",
     "iopub.status.busy": "2021-10-09T11:15:11.780623Z",
     "iopub.status.idle": "2021-10-09T11:15:11.799718Z",
     "shell.execute_reply": "2021-10-09T11:15:11.799102Z",
     "shell.execute_reply.started": "2021-10-09T07:54:29.931418Z"
    },
    "papermill": {
     "duration": 0.069692,
     "end_time": "2021-10-09T11:15:11.799862",
     "exception": false,
     "start_time": "2021-10-09T11:15:11.730170",
     "status": "completed"
    },
    "tags": []
   },
   "outputs": [
    {
     "name": "stdout",
     "output_type": "stream",
     "text": [
      "<class 'pandas.core.frame.DataFrame'>\n",
      "Int64Index: 287196 entries, 0 to 86158\n",
      "Data columns (total 17 columns):\n",
      " #   Column               Non-Null Count   Dtype  \n",
      "---  ------               --------------   -----  \n",
      " 0   month                287196 non-null  int64  \n",
      " 1   town                 287196 non-null  int64  \n",
      " 2   flat_type            287196 non-null  int64  \n",
      " 3   block                287196 non-null  int64  \n",
      " 4   street_name          287196 non-null  int64  \n",
      " 5   storey_range         287196 non-null  int64  \n",
      " 6   floor_area_sqm       287196 non-null  float64\n",
      " 7   flat_model           287196 non-null  int64  \n",
      " 8   lease_commence_date  287196 non-null  int64  \n",
      " 9   resale_price         287196 non-null  int64  \n",
      " 10  Flat_Type            287196 non-null  int64  \n",
      " 11  Room_Count           287196 non-null  int64  \n",
      " 12  Ratio                287196 non-null  float64\n",
      " 13  Mean_Storey          287196 non-null  int64  \n",
      " 14  Month                287196 non-null  int64  \n",
      " 15  Year                 287196 non-null  int64  \n",
      " 16  Duration             287196 non-null  int64  \n",
      "dtypes: float64(2), int64(15)\n",
      "memory usage: 39.4 MB\n"
     ]
    }
   ],
   "source": [
    "df.info()"
   ]
  },
  {
   "cell_type": "markdown",
   "id": "781eb586",
   "metadata": {
    "papermill": {
     "duration": 0.034737,
     "end_time": "2021-10-09T11:15:11.869810",
     "exception": false,
     "start_time": "2021-10-09T11:15:11.835073",
     "status": "completed"
    },
    "tags": []
   },
   "source": [
    "#### Splitting the concatenated data back to train and test "
   ]
  },
  {
   "cell_type": "code",
   "execution_count": 22,
   "id": "945c2be7",
   "metadata": {
    "execution": {
     "iopub.execute_input": "2021-10-09T11:15:11.970586Z",
     "iopub.status.busy": "2021-10-09T11:15:11.968438Z",
     "iopub.status.idle": "2021-10-09T11:15:12.022682Z",
     "shell.execute_reply": "2021-10-09T11:15:12.021850Z",
     "shell.execute_reply.started": "2021-10-09T07:54:30.526235Z"
    },
    "papermill": {
     "duration": 0.103943,
     "end_time": "2021-10-09T11:15:12.022880",
     "exception": false,
     "start_time": "2021-10-09T11:15:11.918937",
     "status": "completed"
    },
    "tags": []
   },
   "outputs": [],
   "source": [
    "test = df[df['resale_price'] == -1]\n",
    "test = test.drop('resale_price', axis=1)\n",
    "\n",
    "train = df[df['resale_price'] != -1]"
   ]
  },
  {
   "cell_type": "code",
   "execution_count": 23,
   "id": "7c1a32fc",
   "metadata": {
    "execution": {
     "iopub.execute_input": "2021-10-09T11:15:12.108610Z",
     "iopub.status.busy": "2021-10-09T11:15:12.107615Z",
     "iopub.status.idle": "2021-10-09T11:15:12.113994Z",
     "shell.execute_reply": "2021-10-09T11:15:12.113417Z",
     "shell.execute_reply.started": "2021-10-09T07:54:30.946607Z"
    },
    "papermill": {
     "duration": 0.049382,
     "end_time": "2021-10-09T11:15:12.114170",
     "exception": false,
     "start_time": "2021-10-09T11:15:12.064788",
     "status": "completed"
    },
    "tags": []
   },
   "outputs": [
    {
     "data": {
      "text/plain": [
       "47000     1878\n",
       "160000    1831\n",
       "150000    1830\n",
       "180000    1782\n",
       "140000    1695\n",
       "          ... \n",
       "195750       1\n",
       "263998       1\n",
       "141888       1\n",
       "153300       1\n",
       "194688       1\n",
       "Name: resale_price, Length: 3297, dtype: int64"
      ]
     },
     "execution_count": 23,
     "metadata": {},
     "output_type": "execute_result"
    }
   ],
   "source": [
    "train['resale_price'].value_counts()"
   ]
  },
  {
   "cell_type": "code",
   "execution_count": 24,
   "id": "707606ac",
   "metadata": {
    "execution": {
     "iopub.execute_input": "2021-10-09T11:15:12.192295Z",
     "iopub.status.busy": "2021-10-09T11:15:12.191507Z",
     "iopub.status.idle": "2021-10-09T11:15:12.195179Z",
     "shell.execute_reply": "2021-10-09T11:15:12.194698Z",
     "shell.execute_reply.started": "2021-10-09T07:54:31.400238Z"
    },
    "papermill": {
     "duration": 0.046056,
     "end_time": "2021-10-09T11:15:12.195323",
     "exception": false,
     "start_time": "2021-10-09T11:15:12.149267",
     "status": "completed"
    },
    "tags": []
   },
   "outputs": [
    {
     "data": {
      "text/plain": [
       "['month',\n",
       " 'town',\n",
       " 'flat_type',\n",
       " 'block',\n",
       " 'street_name',\n",
       " 'storey_range',\n",
       " 'floor_area_sqm',\n",
       " 'flat_model',\n",
       " 'lease_commence_date',\n",
       " 'resale_price',\n",
       " 'Flat_Type',\n",
       " 'Room_Count',\n",
       " 'Ratio',\n",
       " 'Mean_Storey',\n",
       " 'Month',\n",
       " 'Year',\n",
       " 'Duration']"
      ]
     },
     "execution_count": 24,
     "metadata": {},
     "output_type": "execute_result"
    }
   ],
   "source": [
    "list(df.columns)"
   ]
  },
  {
   "cell_type": "code",
   "execution_count": 25,
   "id": "79b14806",
   "metadata": {
    "execution": {
     "iopub.execute_input": "2021-10-09T11:15:12.269342Z",
     "iopub.status.busy": "2021-10-09T11:15:12.268490Z",
     "iopub.status.idle": "2021-10-09T11:15:12.271626Z",
     "shell.execute_reply": "2021-10-09T11:15:12.271133Z",
     "shell.execute_reply.started": "2021-10-09T07:54:31.814137Z"
    },
    "papermill": {
     "duration": 0.042049,
     "end_time": "2021-10-09T11:15:12.271760",
     "exception": false,
     "start_time": "2021-10-09T11:15:12.229711",
     "status": "completed"
    },
    "tags": []
   },
   "outputs": [],
   "source": [
    "features = ['month',\n",
    " 'town',\n",
    " 'flat_type',\n",
    " 'block',\n",
    " 'street_name',\n",
    " 'storey_range',\n",
    " 'floor_area_sqm',\n",
    " 'flat_model',\n",
    " 'lease_commence_date',\n",
    " 'Duration']"
   ]
  },
  {
   "cell_type": "code",
   "execution_count": 26,
   "id": "38994cfa",
   "metadata": {
    "execution": {
     "iopub.execute_input": "2021-10-09T11:15:12.352669Z",
     "iopub.status.busy": "2021-10-09T11:15:12.351698Z",
     "iopub.status.idle": "2021-10-09T11:15:12.355749Z",
     "shell.execute_reply": "2021-10-09T11:15:12.355246Z",
     "shell.execute_reply.started": "2021-10-09T07:54:32.323080Z"
    },
    "papermill": {
     "duration": 0.047061,
     "end_time": "2021-10-09T11:15:12.355897",
     "exception": false,
     "start_time": "2021-10-09T11:15:12.308836",
     "status": "completed"
    },
    "tags": []
   },
   "outputs": [],
   "source": [
    "test = test[features]"
   ]
  },
  {
   "cell_type": "code",
   "execution_count": 27,
   "id": "66423760",
   "metadata": {
    "execution": {
     "iopub.execute_input": "2021-10-09T11:15:12.441826Z",
     "iopub.status.busy": "2021-10-09T11:15:12.440870Z",
     "iopub.status.idle": "2021-10-09T11:15:12.449389Z",
     "shell.execute_reply": "2021-10-09T11:15:12.448818Z",
     "shell.execute_reply.started": "2021-10-09T07:54:32.790406Z"
    },
    "papermill": {
     "duration": 0.057994,
     "end_time": "2021-10-09T11:15:12.449543",
     "exception": false,
     "start_time": "2021-10-09T11:15:12.391549",
     "status": "completed"
    },
    "tags": []
   },
   "outputs": [],
   "source": [
    "num_bins = int(np.floor(1 + np.log2(len(train))))\n",
    "\n",
    "train['bins'] = pd.cut(train['resale_price'], bins=num_bins, labels=False)"
   ]
  },
  {
   "cell_type": "code",
   "execution_count": 28,
   "id": "1ed195b0",
   "metadata": {
    "execution": {
     "iopub.execute_input": "2021-10-09T11:15:12.523651Z",
     "iopub.status.busy": "2021-10-09T11:15:12.522940Z",
     "iopub.status.idle": "2021-10-09T11:15:12.524852Z",
     "shell.execute_reply": "2021-10-09T11:15:12.525308Z",
     "shell.execute_reply.started": "2021-10-09T07:54:33.205487Z"
    },
    "papermill": {
     "duration": 0.040807,
     "end_time": "2021-10-09T11:15:12.525479",
     "exception": false,
     "start_time": "2021-10-09T11:15:12.484672",
     "status": "completed"
    },
    "tags": []
   },
   "outputs": [],
   "source": [
    "# # log normalisation of target\n",
    "\n",
    "# train['resale_price'] = np.log(train['resale_price'])\n"
   ]
  },
  {
   "cell_type": "markdown",
   "id": "a2f1ff01",
   "metadata": {
    "papermill": {
     "duration": 0.034983,
     "end_time": "2021-10-09T11:15:12.594847",
     "exception": false,
     "start_time": "2021-10-09T11:15:12.559864",
     "status": "completed"
    },
    "tags": []
   },
   "source": [
    "#### Log normalisation of target didn't improve the model. :("
   ]
  },
  {
   "cell_type": "code",
   "execution_count": 29,
   "id": "86ed43d4",
   "metadata": {
    "execution": {
     "iopub.execute_input": "2021-10-09T11:15:12.667594Z",
     "iopub.status.busy": "2021-10-09T11:15:12.666976Z",
     "iopub.status.idle": "2021-10-09T11:15:12.692174Z",
     "shell.execute_reply": "2021-10-09T11:15:12.692620Z",
     "shell.execute_reply.started": "2021-10-09T07:54:34.205907Z"
    },
    "papermill": {
     "duration": 0.063031,
     "end_time": "2021-10-09T11:15:12.692953",
     "exception": false,
     "start_time": "2021-10-09T11:15:12.629922",
     "status": "completed"
    },
    "tags": []
   },
   "outputs": [],
   "source": [
    "X = train[features]\n",
    "\n",
    "y = train['resale_price']"
   ]
  },
  {
   "cell_type": "code",
   "execution_count": 30,
   "id": "428b174e",
   "metadata": {
    "execution": {
     "iopub.execute_input": "2021-10-09T11:15:12.767328Z",
     "iopub.status.busy": "2021-10-09T11:15:12.766385Z",
     "iopub.status.idle": "2021-10-09T11:15:12.771381Z",
     "shell.execute_reply": "2021-10-09T11:15:12.771813Z",
     "shell.execute_reply.started": "2021-10-09T07:54:34.644701Z"
    },
    "papermill": {
     "duration": 0.042963,
     "end_time": "2021-10-09T11:15:12.771992",
     "exception": false,
     "start_time": "2021-10-09T11:15:12.729029",
     "status": "completed"
    },
    "tags": []
   },
   "outputs": [
    {
     "data": {
      "text/plain": [
       "((201037, 10), (201037,))"
      ]
     },
     "execution_count": 30,
     "metadata": {},
     "output_type": "execute_result"
    }
   ],
   "source": [
    "X.shape, y.shape"
   ]
  },
  {
   "cell_type": "code",
   "execution_count": 31,
   "id": "e457d752",
   "metadata": {
    "execution": {
     "iopub.execute_input": "2021-10-09T11:15:12.846928Z",
     "iopub.status.busy": "2021-10-09T11:15:12.846100Z",
     "iopub.status.idle": "2021-10-09T11:15:12.849004Z",
     "shell.execute_reply": "2021-10-09T11:15:12.849482Z",
     "shell.execute_reply.started": "2021-10-09T07:54:35.228786Z"
    },
    "papermill": {
     "duration": 0.041875,
     "end_time": "2021-10-09T11:15:12.849649",
     "exception": false,
     "start_time": "2021-10-09T11:15:12.807774",
     "status": "completed"
    },
    "tags": []
   },
   "outputs": [],
   "source": [
    "# def score(y_true, y_pred):\n",
    "#     score = mean_absolute_error(y_true, y_pred)\n",
    "#     return score"
   ]
  },
  {
   "cell_type": "code",
   "execution_count": 32,
   "id": "09fc29f5",
   "metadata": {
    "execution": {
     "iopub.execute_input": "2021-10-09T11:15:12.923533Z",
     "iopub.status.busy": "2021-10-09T11:15:12.922573Z",
     "iopub.status.idle": "2021-10-09T11:15:12.925928Z",
     "shell.execute_reply": "2021-10-09T11:15:12.926360Z",
     "shell.execute_reply.started": "2021-10-09T07:54:36.172756Z"
    },
    "papermill": {
     "duration": 0.040967,
     "end_time": "2021-10-09T11:15:12.926529",
     "exception": false,
     "start_time": "2021-10-09T11:15:12.885562",
     "status": "completed"
    },
    "tags": []
   },
   "outputs": [],
   "source": [
    "# # Model Hyperparameter tuning\n",
    "\n",
    "# skf = StratifiedKFold(n_splits=7, shuffle=True, random_state=24)\n",
    "\n",
    "# parameters = {'depth' : np.arange(6, 16, 2) ,\n",
    "#               'learning_rate' : [0.01, 0.05, 0.1, 0.5],\n",
    "#               'iterations' : [50, 100, 150, 200]}\n",
    "\n",
    "# model = CatBoostRegressor(task_type='GPU', verbose=0) \n",
    "\n",
    "# grid_search = GridSearchCV(estimator=model, param_grid=parameters, cv=skf.split(X, y=train['bins'].values), n_jobs=-1, scoring=make_scorer(score, greater_is_better=True), verbose=10)\n",
    "\n",
    "# grid_search.fit(X, y)"
   ]
  },
  {
   "cell_type": "code",
   "execution_count": 33,
   "id": "51731111",
   "metadata": {
    "execution": {
     "iopub.execute_input": "2021-10-09T11:15:13.000429Z",
     "iopub.status.busy": "2021-10-09T11:15:12.999551Z",
     "iopub.status.idle": "2021-10-09T11:15:13.002502Z",
     "shell.execute_reply": "2021-10-09T11:15:13.002890Z",
     "shell.execute_reply.started": "2021-10-09T07:54:54.075292Z"
    },
    "papermill": {
     "duration": 0.040751,
     "end_time": "2021-10-09T11:15:13.003055",
     "exception": false,
     "start_time": "2021-10-09T11:15:12.962304",
     "status": "completed"
    },
    "tags": []
   },
   "outputs": [],
   "source": [
    "# print(f'Best estimator: {grid_search.best_estimator_}')\n",
    "# print(f'Best score: {grid_search.best_score_}')\n",
    "# print(f'Best parameters: {grid_search.best_params_}')"
   ]
  },
  {
   "cell_type": "markdown",
   "id": "2dc3c322",
   "metadata": {
    "papermill": {
     "duration": 0.035681,
     "end_time": "2021-10-09T11:15:13.074411",
     "exception": false,
     "start_time": "2021-10-09T11:15:13.038730",
     "status": "completed"
    },
    "tags": []
   },
   "source": [
    "## Cross Validation and Model Fitting"
   ]
  },
  {
   "cell_type": "code",
   "execution_count": 34,
   "id": "4cf7e8a9",
   "metadata": {
    "execution": {
     "iopub.execute_input": "2021-10-09T11:15:13.152008Z",
     "iopub.status.busy": "2021-10-09T11:15:13.151231Z",
     "iopub.status.idle": "2021-10-09T11:19:24.856808Z",
     "shell.execute_reply": "2021-10-09T11:19:24.855296Z",
     "shell.execute_reply.started": "2021-10-09T07:54:55.321742Z"
    },
    "papermill": {
     "duration": 251.746282,
     "end_time": "2021-10-09T11:19:24.857004",
     "exception": false,
     "start_time": "2021-10-09T11:15:13.110722",
     "status": "completed"
    },
    "tags": []
   },
   "outputs": [
    {
     "name": "stderr",
     "output_type": "stream",
     "text": [
      "7it [04:11, 35.95s/it]\n"
     ]
    }
   ],
   "source": [
    "# best_params = grid_search.best_params_\n",
    "\n",
    "pred = np.zeros((test.shape[0]))\n",
    "\n",
    "skf = StratifiedKFold(n_splits=7, shuffle=True, random_state=24)\n",
    "\n",
    "scores = []\n",
    "\n",
    "for train_index, test_index in tqdm(skf.split(X, y=train['bins'].values)):\n",
    "    \n",
    "    X_train_fold, X_test_fold = X.iloc[train_index], X.iloc[test_index]\n",
    "\n",
    "    y_train_fold, y_test_fold = y.iloc[train_index], y.iloc[test_index]  \n",
    "\n",
    "\n",
    "#   model = XGBRegressor(max_depth=8, task_type='GPU')\n",
    "    model = CatBoostRegressor(max_depth=10, verbose=0)\n",
    "\n",
    "    model.fit(X_train_fold, y_train_fold)\n",
    "\n",
    "    y_pred = model.predict(X_test_fold)\n",
    "    \n",
    "    \n",
    "#     y_test_fold = [(np.exp(x)) for x in [i for i in y_test_fold]]\n",
    "\n",
    "#     y_pred = [(np.exp(x)) for x in [i for i in y_pred_log]]\n",
    "\n",
    "    \n",
    "    pred += model.predict(test) / skf.n_splits \n",
    "\n",
    "    score = mean_absolute_error(y_test_fold, y_pred)\n",
    "        \n",
    "    scores.append(score)"
   ]
  },
  {
   "cell_type": "code",
   "execution_count": 35,
   "id": "dec1a07b",
   "metadata": {
    "execution": {
     "iopub.execute_input": "2021-10-09T11:19:24.935452Z",
     "iopub.status.busy": "2021-10-09T11:19:24.933837Z",
     "iopub.status.idle": "2021-10-09T11:19:24.941391Z",
     "shell.execute_reply": "2021-10-09T11:19:24.940690Z",
     "shell.execute_reply.started": "2021-10-09T08:05:26.104211Z"
    },
    "papermill": {
     "duration": 0.046407,
     "end_time": "2021-10-09T11:19:24.941571",
     "exception": false,
     "start_time": "2021-10-09T11:19:24.895164",
     "status": "completed"
    },
    "tags": []
   },
   "outputs": [
    {
     "name": "stdout",
     "output_type": "stream",
     "text": [
      "Average K-Folds MAE: 11204.756612649138\n"
     ]
    }
   ],
   "source": [
    "print(f'Average K-Folds MAE: {np.mean(scores)}')"
   ]
  },
  {
   "cell_type": "code",
   "execution_count": 36,
   "id": "6aea4a64",
   "metadata": {
    "execution": {
     "iopub.execute_input": "2021-10-09T11:19:25.021333Z",
     "iopub.status.busy": "2021-10-09T11:19:25.020658Z",
     "iopub.status.idle": "2021-10-09T11:19:25.226061Z",
     "shell.execute_reply": "2021-10-09T11:19:25.225390Z"
    },
    "papermill": {
     "duration": 0.247015,
     "end_time": "2021-10-09T11:19:25.226240",
     "exception": false,
     "start_time": "2021-10-09T11:19:24.979225",
     "status": "completed"
    },
    "tags": []
   },
   "outputs": [],
   "source": [
    "# Submission File for K-Folds\n",
    "\n",
    "submission = pd.DataFrame({'id':test_ID, 'resale_price':pred})\n",
    "submission.to_csv('Submission7.csv', index=False)"
   ]
  },
  {
   "cell_type": "code",
   "execution_count": 37,
   "id": "2ccca745",
   "metadata": {
    "execution": {
     "iopub.execute_input": "2021-10-09T11:19:25.303683Z",
     "iopub.status.busy": "2021-10-09T11:19:25.302816Z",
     "iopub.status.idle": "2021-10-09T11:19:25.305697Z",
     "shell.execute_reply": "2021-10-09T11:19:25.306108Z"
    },
    "papermill": {
     "duration": 0.043058,
     "end_time": "2021-10-09T11:19:25.306266",
     "exception": false,
     "start_time": "2021-10-09T11:19:25.263208",
     "status": "completed"
    },
    "tags": []
   },
   "outputs": [],
   "source": [
    "# X_train, X_test, y_train, y_test = train_test_split(X, y, test_size=0.2, random_state=22, shuffle=True)"
   ]
  },
  {
   "cell_type": "code",
   "execution_count": 38,
   "id": "51bb7f8b",
   "metadata": {
    "execution": {
     "iopub.execute_input": "2021-10-09T11:19:25.385373Z",
     "iopub.status.busy": "2021-10-09T11:19:25.384757Z",
     "iopub.status.idle": "2021-10-09T11:19:25.388648Z",
     "shell.execute_reply": "2021-10-09T11:19:25.388171Z"
    },
    "papermill": {
     "duration": 0.045315,
     "end_time": "2021-10-09T11:19:25.388783",
     "exception": false,
     "start_time": "2021-10-09T11:19:25.343468",
     "status": "completed"
    },
    "tags": []
   },
   "outputs": [],
   "source": [
    "# model = CatBoostRegressor(verbose=0)\n",
    "\n",
    "# model.fit(X_train, y_train)\n",
    "\n",
    "# y_pred = model.predict(X_test)"
   ]
  },
  {
   "cell_type": "code",
   "execution_count": 39,
   "id": "a2788575",
   "metadata": {
    "execution": {
     "iopub.execute_input": "2021-10-09T11:19:25.466617Z",
     "iopub.status.busy": "2021-10-09T11:19:25.465625Z",
     "iopub.status.idle": "2021-10-09T11:19:25.468745Z",
     "shell.execute_reply": "2021-10-09T11:19:25.469189Z"
    },
    "papermill": {
     "duration": 0.043604,
     "end_time": "2021-10-09T11:19:25.469355",
     "exception": false,
     "start_time": "2021-10-09T11:19:25.425751",
     "status": "completed"
    },
    "tags": []
   },
   "outputs": [],
   "source": [
    "# # With log normalisation of target\n",
    "\n",
    "# model = CatBoostRegressor(verbose=0)\n",
    "\n",
    "# model.fit(X_train, y_train)\n",
    "\n",
    "# y_pred_log = model.predict(X_test)\n",
    "\n",
    "# y_test = [(np.exp(x)) for x in [i for i in y_test]]\n",
    "\n",
    "# y_pred = [(np.exp(x)) for x in [i for i in y_pred_log]]"
   ]
  },
  {
   "cell_type": "code",
   "execution_count": 40,
   "id": "4ded668e",
   "metadata": {
    "execution": {
     "iopub.execute_input": "2021-10-09T11:19:25.548140Z",
     "iopub.status.busy": "2021-10-09T11:19:25.547546Z",
     "iopub.status.idle": "2021-10-09T11:19:25.551052Z",
     "shell.execute_reply": "2021-10-09T11:19:25.550508Z"
    },
    "papermill": {
     "duration": 0.043935,
     "end_time": "2021-10-09T11:19:25.551210",
     "exception": false,
     "start_time": "2021-10-09T11:19:25.507275",
     "status": "completed"
    },
    "tags": []
   },
   "outputs": [],
   "source": [
    "# score = mean_absolute_error(y_test, y_pred)\n",
    "# print(f'MAE: {score}') "
   ]
  },
  {
   "cell_type": "code",
   "execution_count": 41,
   "id": "f40f8280",
   "metadata": {
    "execution": {
     "iopub.execute_input": "2021-10-09T11:19:25.630242Z",
     "iopub.status.busy": "2021-10-09T11:19:25.629646Z",
     "iopub.status.idle": "2021-10-09T11:19:25.632505Z",
     "shell.execute_reply": "2021-10-09T11:19:25.632911Z"
    },
    "papermill": {
     "duration": 0.044394,
     "end_time": "2021-10-09T11:19:25.633072",
     "exception": false,
     "start_time": "2021-10-09T11:19:25.588678",
     "status": "completed"
    },
    "tags": []
   },
   "outputs": [],
   "source": [
    "# # Submission File\n",
    "\n",
    "# model.fit(X, y)\n",
    "\n",
    "# y_pred = model.predict(test)\n",
    "\n",
    "# submission = pd.DataFrame({'id':test_ID, 'resale_price':y_pred})\n",
    "# submission.to_csv('Submission1.csv', index=False)"
   ]
  },
  {
   "cell_type": "code",
   "execution_count": 42,
   "id": "05be7d53",
   "metadata": {
    "execution": {
     "iopub.execute_input": "2021-10-09T11:19:25.711720Z",
     "iopub.status.busy": "2021-10-09T11:19:25.711182Z",
     "iopub.status.idle": "2021-10-09T11:19:25.713653Z",
     "shell.execute_reply": "2021-10-09T11:19:25.714072Z"
    },
    "papermill": {
     "duration": 0.043407,
     "end_time": "2021-10-09T11:19:25.714240",
     "exception": false,
     "start_time": "2021-10-09T11:19:25.670833",
     "status": "completed"
    },
    "tags": []
   },
   "outputs": [],
   "source": [
    "# # Submission File with log normalisation of target\n",
    "\n",
    "# model.fit(X, y)\n",
    "\n",
    "# y_pred_log = model.predict(test)\n",
    "\n",
    "# y_pred = [(np.exp(x)) for x in [i for i in y_pred_log]]\n",
    "\n",
    "# submission = pd.DataFrame({'id':test_ID, 'resale_price':y_pred})\n",
    "# submission.to_csv('Submission2.csv', index=False)"
   ]
  }
 ],
 "metadata": {
  "kernelspec": {
   "display_name": "Python 3",
   "language": "python",
   "name": "python3"
  },
  "language_info": {
   "codemirror_mode": {
    "name": "ipython",
    "version": 3
   },
   "file_extension": ".py",
   "mimetype": "text/x-python",
   "name": "python",
   "nbconvert_exporter": "python",
   "pygments_lexer": "ipython3",
   "version": "3.7.10"
  },
  "papermill": {
   "default_parameters": {},
   "duration": 272.515887,
   "end_time": "2021-10-09T11:19:26.460505",
   "environment_variables": {},
   "exception": null,
   "input_path": "__notebook__.ipynb",
   "output_path": "__notebook__.ipynb",
   "parameters": {},
   "start_time": "2021-10-09T11:14:53.944618",
   "version": "2.3.3"
  }
 },
 "nbformat": 4,
 "nbformat_minor": 5
}
